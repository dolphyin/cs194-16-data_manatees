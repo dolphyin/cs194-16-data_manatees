{
 "metadata": {
  "name": "",
  "signature": "sha256:e0ac521c490ef727880ba0a0e9fcba52fc255f846375eac180f05d60a23d0360"
 },
 "nbformat": 3,
 "nbformat_minor": 0,
 "worksheets": [
  {
   "cells": [
    {
     "cell_type": "code",
     "collapsed": false,
     "input": [
      "import pandas as pd\n",
      "\n",
      "data_311 = pd.read_csv('df_311_ready_to_join.csv', na_values=['-'])\n",
      "data_311 = data_311.where((pd.notnull(data_311)), None)\n",
      "data_311['311-reports'] = data_311['reports']\n",
      "data_311= data_311.drop('reports', 1)\n",
      "data_311.head()\n"
     ],
     "language": "python",
     "metadata": {},
     "outputs": [
      {
       "html": [
        "<div style=\"max-height:1000px;max-width:1500px;overflow:auto;\">\n",
        "<table border=\"1\" class=\"dataframe\">\n",
        "  <thead>\n",
        "    <tr style=\"text-align: right;\">\n",
        "      <th></th>\n",
        "      <th>tuple</th>\n",
        "      <th>311-reports</th>\n",
        "    </tr>\n",
        "  </thead>\n",
        "  <tbody>\n",
        "    <tr>\n",
        "      <th>0</th>\n",
        "      <td> (35649504.880880885, 37.79586636966667, -122.5...</td>\n",
        "      <td> [{'Category': 'General Requests', 'TimeBin': 3...</td>\n",
        "    </tr>\n",
        "    <tr>\n",
        "      <th>1</th>\n",
        "      <td> (127406469.14814816, 37.710130254333336, -122....</td>\n",
        "      <td> [{'Category': 'SFHA Requests', 'TimeBin': 1274...</td>\n",
        "    </tr>\n",
        "    <tr>\n",
        "      <th>2</th>\n",
        "      <td> (87098222.15215217, 37.68155154922223, -122.51...</td>\n",
        "      <td> [{'Category': 'Tree Maintenance', 'TimeBin': 8...</td>\n",
        "    </tr>\n",
        "    <tr>\n",
        "      <th>3</th>\n",
        "      <td> (126798807.13313314, 37.76728766455556, -122.5...</td>\n",
        "      <td> [{'Category': 'Street and Sidewalk Cleaning', ...</td>\n",
        "    </tr>\n",
        "    <tr>\n",
        "      <th>4</th>\n",
        "      <td> (137331615.3933934, 37.68155154922223, -122.51...</td>\n",
        "      <td> [{'Category': 'Abandoned Vehicle', 'TimeBin': ...</td>\n",
        "    </tr>\n",
        "  </tbody>\n",
        "</table>\n",
        "</div>"
       ],
       "metadata": {},
       "output_type": "pyout",
       "prompt_number": 5,
       "text": [
        "                                               tuple  \\\n",
        "0  (35649504.880880885, 37.79586636966667, -122.5...   \n",
        "1  (127406469.14814816, 37.710130254333336, -122....   \n",
        "2  (87098222.15215217, 37.68155154922223, -122.51...   \n",
        "3  (126798807.13313314, 37.76728766455556, -122.5...   \n",
        "4  (137331615.3933934, 37.68155154922223, -122.51...   \n",
        "\n",
        "                                         311-reports  \n",
        "0  [{'Category': 'General Requests', 'TimeBin': 3...  \n",
        "1  [{'Category': 'SFHA Requests', 'TimeBin': 1274...  \n",
        "2  [{'Category': 'Tree Maintenance', 'TimeBin': 8...  \n",
        "3  [{'Category': 'Street and Sidewalk Cleaning', ...  \n",
        "4  [{'Category': 'Abandoned Vehicle', 'TimeBin': ...  "
       ]
      }
     ],
     "prompt_number": 5
    },
    {
     "cell_type": "code",
     "collapsed": false,
     "input": [
      "data_911 = pd.read_csv('data_911_ready_to_join.csv', na_values=['-'])\n",
      "data_911 = data_911.where((pd.notnull(data_911)), None)\n",
      "data_911.head()"
     ],
     "language": "python",
     "metadata": {},
     "outputs": [
      {
       "html": [
        "<div style=\"max-height:1000px;max-width:1500px;overflow:auto;\">\n",
        "<table border=\"1\" class=\"dataframe\">\n",
        "  <thead>\n",
        "    <tr style=\"text-align: right;\">\n",
        "      <th></th>\n",
        "      <th>911-reports</th>\n",
        "      <th>tuple</th>\n",
        "    </tr>\n",
        "  </thead>\n",
        "  <tbody>\n",
        "    <tr>\n",
        "      <th>0</th>\n",
        "      <td> [{'Category': 'LARCENY/THEFT', 'TimeBin': 4008...</td>\n",
        "      <td> (40088030.270270266, -122.49704362578936, 37.7...</td>\n",
        "    </tr>\n",
        "    <tr>\n",
        "      <th>1</th>\n",
        "      <td> [{'Category': 'OTHER OFFENSES', 'TimeBin': 397...</td>\n",
        "      <td> (39716844.804804794, -122.4805689517237, 37.74...</td>\n",
        "    </tr>\n",
        "    <tr>\n",
        "      <th>2</th>\n",
        "      <td> [{'Category': 'LARCENY/THEFT', 'TimeBin': 7071...</td>\n",
        "      <td> (70710831.17117117, -122.44761960359234, 37.79...</td>\n",
        "    </tr>\n",
        "    <tr>\n",
        "      <th>3</th>\n",
        "      <td> [{'Category': 'FORGERY/COUNTERFEITING', 'TimeB...</td>\n",
        "      <td> (118593756.2162162, -122.4311449295267, 37.769...</td>\n",
        "    </tr>\n",
        "    <tr>\n",
        "      <th>4</th>\n",
        "      <td> [{'Category': 'SUSPICIOUS OCC', 'TimeBin': 434...</td>\n",
        "      <td> (43428699.459459454, -122.4805689517237, 37.75...</td>\n",
        "    </tr>\n",
        "  </tbody>\n",
        "</table>\n",
        "</div>"
       ],
       "metadata": {},
       "output_type": "pyout",
       "prompt_number": 2,
       "text": [
        "                                         911-reports  \\\n",
        "0  [{'Category': 'LARCENY/THEFT', 'TimeBin': 4008...   \n",
        "1  [{'Category': 'OTHER OFFENSES', 'TimeBin': 397...   \n",
        "2  [{'Category': 'LARCENY/THEFT', 'TimeBin': 7071...   \n",
        "3  [{'Category': 'FORGERY/COUNTERFEITING', 'TimeB...   \n",
        "4  [{'Category': 'SUSPICIOUS OCC', 'TimeBin': 434...   \n",
        "\n",
        "                                               tuple  \n",
        "0  (40088030.270270266, -122.49704362578936, 37.7...  \n",
        "1  (39716844.804804794, -122.4805689517237, 37.74...  \n",
        "2  (70710831.17117117, -122.44761960359234, 37.79...  \n",
        "3  (118593756.2162162, -122.4311449295267, 37.769...  \n",
        "4  (43428699.459459454, -122.4805689517237, 37.75...  "
       ]
      }
     ],
     "prompt_number": 2
    },
    {
     "cell_type": "code",
     "collapsed": false,
     "input": [
      "joined_df = data_311.merge(data_911, how='left', on='tuple')\n",
      "#joined_df.to_csv(\"joined_data.csv\", index_label=False)\n",
      "\n",
      "joined_df['911-reports'].count()"
     ],
     "language": "python",
     "metadata": {},
     "outputs": [
      {
       "metadata": {},
       "output_type": "pyout",
       "prompt_number": 11,
       "text": [
        "0"
       ]
      }
     ],
     "prompt_number": 11
    },
    {
     "cell_type": "code",
     "collapsed": false,
     "input": [],
     "language": "python",
     "metadata": {},
     "outputs": []
    }
   ],
   "metadata": {}
  }
 ]
}