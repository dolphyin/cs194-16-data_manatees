{
 "metadata": {
  "name": "",
  "signature": "sha256:24fe3cf8fea4a53f4a40259d8660c8ac2bbf9df8f9611a919e33d00103aa2bbc"
 },
 "nbformat": 3,
 "nbformat_minor": 0,
 "worksheets": [
  {
   "cells": [
    {
     "cell_type": "code",
     "collapsed": false,
     "input": [
      "# takes in a joined dataframe by tuples and generates a matrix by mapping the rows to feature vectors\n",
      "DATA_PATH = \"joined_unfeaturized.csv\" \n",
      "import pandas as pd\n",
      "df = pd.read_csv(DATA_PATH, na_values=['-'])\n",
      "df = df.where((pd.notnull(df)), None)\n",
      "df.head(2)"
     ],
     "language": "python",
     "metadata": {},
     "outputs": [
      {
       "html": [
        "<div style=\"max-height:1000px;max-width:1500px;overflow:auto;\">\n",
        "<table border=\"1\" class=\"dataframe\">\n",
        "  <thead>\n",
        "    <tr style=\"text-align: right;\">\n",
        "      <th></th>\n",
        "      <th>feature-311</th>\n",
        "      <th>tuple</th>\n",
        "      <th>911-reports</th>\n",
        "    </tr>\n",
        "  </thead>\n",
        "  <tbody>\n",
        "    <tr>\n",
        "      <th>0</th>\n",
        "      <td> [{'Category': 'Sign Repair', 'TimeBin': 627414...</td>\n",
        "      <td> (6274149.810962193, -122.42479733333332, 37.77...</td>\n",
        "      <td>                                                []</td>\n",
        "    </tr>\n",
        "    <tr>\n",
        "      <th>1</th>\n",
        "      <td> [{'Category': '311 External Request', 'TimeBin...</td>\n",
        "      <td> (68448950.51830366, -122.45177022222221, 37.76...</td>\n",
        "      <td> [{'Category': 'WARRANTS', 'TimeBin': 68448950....</td>\n",
        "    </tr>\n",
        "  </tbody>\n",
        "</table>\n",
        "</div>"
       ],
       "metadata": {},
       "output_type": "pyout",
       "prompt_number": 1,
       "text": [
        "                                         feature-311  \\\n",
        "0  [{'Category': 'Sign Repair', 'TimeBin': 627414...   \n",
        "1  [{'Category': '311 External Request', 'TimeBin...   \n",
        "\n",
        "                                               tuple  \\\n",
        "0  (6274149.810962193, -122.42479733333332, 37.77...   \n",
        "1  (68448950.51830366, -122.45177022222221, 37.76...   \n",
        "\n",
        "                                         911-reports  \n",
        "0                                                 []  \n",
        "1  [{'Category': 'WARRANTS', 'TimeBin': 68448950....  "
       ]
      }
     ],
     "prompt_number": 1
    },
    {
     "cell_type": "code",
     "collapsed": false,
     "input": [
      "df['feature-311'] = df['feature-311'].apply(lambda x: eval(x)) #convert strings to lists\n",
      "df['911-reports'] = df['911-reports'].apply(lambda x: eval(x))"
     ],
     "language": "python",
     "metadata": {},
     "outputs": [],
     "prompt_number": 2
    },
    {
     "cell_type": "code",
     "collapsed": false,
     "input": [
      "df.iloc[1][2]"
     ],
     "language": "python",
     "metadata": {},
     "outputs": [
      {
       "metadata": {},
       "output_type": "pyout",
       "prompt_number": 3,
       "text": [
        "[{'Category': 'WARRANTS',\n",
        "  'Descript': 'ENROUTE TO OUTSIDE JURISDICTION',\n",
        "  'PdDistrict': 'PARK',\n",
        "  'Resolution': 'ARREST, BOOKED',\n",
        "  'TimeBin': 68448950.51830366,\n",
        "  'XBin': -122.45177022222221,\n",
        "  'YBin': 37.76225922222223},\n",
        " {'Category': 'WARRANTS',\n",
        "  'Descript': 'ENROUTE TO OUTSIDE JURISDICTION',\n",
        "  'PdDistrict': 'PARK',\n",
        "  'Resolution': 'NONE',\n",
        "  'TimeBin': 68448950.51830366,\n",
        "  'XBin': -122.45177022222221,\n",
        "  'YBin': 37.76225922222223},\n",
        " {'Category': 'FRAUD',\n",
        "  'Descript': 'CREDIT CARD, THEFT BY USE OF',\n",
        "  'PdDistrict': 'PARK',\n",
        "  'Resolution': 'NONE',\n",
        "  'TimeBin': 68448950.51830366,\n",
        "  'XBin': -122.45177022222221,\n",
        "  'YBin': 37.76225922222223},\n",
        " {'Category': 'LARCENY/THEFT',\n",
        "  'Descript': 'GRAND THEFT OF PROPERTY',\n",
        "  'PdDistrict': 'PARK',\n",
        "  'Resolution': 'NONE',\n",
        "  'TimeBin': 68448950.51830366,\n",
        "  'XBin': -122.45177022222221,\n",
        "  'YBin': 37.76225922222223},\n",
        " {'Category': 'ASSAULT',\n",
        "  'Descript': 'THREATENING PHONE CALL(S)',\n",
        "  'PdDistrict': 'PARK',\n",
        "  'Resolution': 'NONE',\n",
        "  'TimeBin': 68448950.51830366,\n",
        "  'XBin': -122.45177022222221,\n",
        "  'YBin': 37.76225922222223}]"
       ]
      }
     ],
     "prompt_number": 3
    },
    {
     "cell_type": "code",
     "collapsed": false,
     "input": [
      "# Get all possible labels for certain categorical data, by looping through the data.\n",
      "Category_set = set()\n",
      "Request_Type_set = set()\n",
      "#Request_Details_set = set()\n",
      "Supervisor_District_set = set()\n",
      "#Source_set = set()\n",
      "#ct=0\n",
      "for row_tuple in df.iterrows():\n",
      "#    ct += 1\n",
      "#    if ct>1:\n",
      "#        break\n",
      "    #print row_tuple[1]\n",
      "    row = row_tuple[1] # a pandas Series\n",
      "    #print row['feature-311']\n",
      "    for dct in row['feature-311']:\n",
      "    #    print dct\n",
      "        Category = dct['Category']\n",
      "    #    Request_Type = dct['Request Type']\n",
      "        #Request_Details = dct['Request Details']\n",
      "        Supervisor_District = int(dct['Supervisor District'])\n",
      "        #Source = dct['Source']\n",
      "        Category_set.add(Category)\n",
      "    #    Request_Type_set.add(Request_Type)\n",
      "        #Request_Details_set.add(Request_Details)\n",
      "        Supervisor_District_set.add(Supervisor_District)\n",
      "        #Source_set.add(Source)\n",
      "print \"done\""
     ],
     "language": "python",
     "metadata": {},
     "outputs": [
      {
       "output_type": "stream",
       "stream": "stdout",
       "text": [
        "done\n"
       ]
      }
     ],
     "prompt_number": 4
    },
    {
     "cell_type": "code",
     "collapsed": false,
     "input": [
      "print len(Category_set)\n",
      "#print len(Request_Type_set)\n",
      "#print len(Request_Details_set)\n",
      "print len(Supervisor_District_set)\n",
      "#print len(Source_set)\n",
      "print Category_set\n",
      "print Supervisor_District_set\n",
      "#print Source_set"
     ],
     "language": "python",
     "metadata": {},
     "outputs": [
      {
       "output_type": "stream",
       "stream": "stdout",
       "text": [
        "27\n",
        "12\n",
        "set(['Streetlights', 'Abandoned Vehicle', 'Interdepartmental Request', 'MUNI Feedback', 'Graffiti Private Property', 'DPW Volunteer Programs', 'Tree Maintenance', 'Rec and Park Requests', 'Residential Building Request', 'Blocked Street or SideWalk', 'Sidewalk or Curb', 'Temporary Sign Request', 'Sewer Issues', '311 External Request', 'Litter Receptacles', 'Catch Basin Maintenance', 'Street Defects', 'Street and Sidewalk Cleaning', 'Color Curb', 'SFHA Requests', 'Construction Zone Permits', 'Graffiti Public Property', 'Illegal Postings', 'Damaged Property', 'Unpermitted Cab Complaint', 'General Requests', 'Sign Repair'])\n",
        "set([0, 1, 2, 3, 4, 5, 6, 7, 8, 9, 10, 11])\n"
       ]
      }
     ],
     "prompt_number": 5
    },
    {
     "cell_type": "code",
     "collapsed": false,
     "input": [
      "# Get all possible labels for c911 data, by looping through the data.\n",
      "Category_set_crime = set()\n",
      "ct = 0\n",
      "for row_tuple in df.iterrows():\n",
      "    ct += 1\n",
      "    if ct>200000000000000000:\n",
      "        break\n",
      "    row = row_tuple[1] # a pandas Series\n",
      "    #print row['911-reports']\n",
      "    for dct in row['911-reports']:\n",
      "     #   print dct\n",
      "        Category_crime = dct['Category']\n",
      "    #    Request_Type = dct['Request Type']\n",
      "        #Request_Details = dct['Request Details']\n",
      "        #Supervisor_District = int(dct['Supervisor District'])\n",
      "        #Source = dct['Source']\n",
      "        Category_set_crime.add(Category_crime)\n",
      "    #    Request_Type_set.add(Request_Type)\n",
      "        #Request_Details_set.add(Request_Details)\n",
      "    #    Supervisor_District_set.add(Supervisor_District)\n",
      "        #Source_set.add(Source)\n",
      "print \"done\""
     ],
     "language": "python",
     "metadata": {},
     "outputs": [
      {
       "output_type": "stream",
       "stream": "stdout",
       "text": [
        "done\n"
       ]
      }
     ],
     "prompt_number": 6
    },
    {
     "cell_type": "code",
     "collapsed": false,
     "input": [
      "Category_set_crime"
     ],
     "language": "python",
     "metadata": {},
     "outputs": [
      {
       "metadata": {},
       "output_type": "pyout",
       "prompt_number": 7,
       "text": [
        "{'ARSON',\n",
        " 'ASSAULT',\n",
        " 'BAD CHECKS',\n",
        " 'BRIBERY',\n",
        " 'BURGLARY',\n",
        " 'DISORDERLY CONDUCT',\n",
        " 'DRIVING UNDER THE INFLUENCE',\n",
        " 'DRUG/NARCOTIC',\n",
        " 'DRUNKENNESS',\n",
        " 'EMBEZZLEMENT',\n",
        " 'EXTORTION',\n",
        " 'FAMILY OFFENSES',\n",
        " 'FORGERY/COUNTERFEITING',\n",
        " 'FRAUD',\n",
        " 'GAMBLING',\n",
        " 'KIDNAPPING',\n",
        " 'LARCENY/THEFT',\n",
        " 'LIQUOR LAWS',\n",
        " 'LOITERING',\n",
        " 'MISSING PERSON',\n",
        " 'NON-CRIMINAL',\n",
        " 'OTHER OFFENSES',\n",
        " 'PORNOGRAPHY/OBSCENE MAT',\n",
        " 'PROSTITUTION',\n",
        " 'RECOVERED VEHICLE',\n",
        " 'ROBBERY',\n",
        " 'RUNAWAY',\n",
        " 'SEX OFFENSES, FORCIBLE',\n",
        " 'SEX OFFENSES, NON FORCIBLE',\n",
        " 'STOLEN PROPERTY',\n",
        " 'SUICIDE',\n",
        " 'SUSPICIOUS OCC',\n",
        " 'TRESPASS',\n",
        " 'VANDALISM',\n",
        " 'VEHICLE THEFT',\n",
        " 'WARRANTS',\n",
        " 'WEAPON LAWS'}"
       ]
      }
     ],
     "prompt_number": 7
    },
    {
     "cell_type": "code",
     "collapsed": false,
     "input": [
      "# Generate a feature vector given a list of dictionaries.  Each dictionary represents one 311 report.\n",
      "# Regularization should also go here\n",
      "    # @param reports_311: a list of dictionaries.  Each dictionary is of the form\n",
      "    # {'Category': string, 'Request Details': string, 'Request Type': string, 'Source': string, 'Supervisor District':string,\n",
      "    #    'TimeBin': float, 'XBin':float, 'YBin':float}\n",
      "\n",
      "#create map dictionaries that will map each one of the categories from the category sets to an index in feature_vector.\n",
      "category_map = {}\n",
      "supervisor_map = {}\n",
      "#source_map = {}\n",
      "index = 0\n",
      "for cat in Category_set:\n",
      "    category_map[cat] = index\n",
      "    index += 1 \n",
      "for cat in Supervisor_District_set:\n",
      "    supervisor_map[cat] = index\n",
      "    index += 1\n",
      "#for cat in Source_set:\n",
      "#    source_map[cat] = index\n",
      "#    index += 1\n",
      "category_map_crime = {}\n",
      "index2 = 0\n",
      "for cat in Category_set_crime:\n",
      "    category_map_crime[cat] = index2\n",
      "    index2 += 1\n",
      "    \n",
      "def generate_feature_vector(reports_311):\n",
      "    # simple feature vector that is just sum of counts of 311 reports of each category \n",
      "    # from (Category, Supervisor District, and Source)\n",
      "    feature_vector = []\n",
      "    for i in xrange(index):\n",
      "        feature_vector.append(0)\n",
      "    for report in reports_311:\n",
      "        #print report\n",
      "        # the first 27 features correspond to the number of 311 reports from each category from Category set\n",
      "        # the next 12 features correspond to the number of 311 reports from each category from Supervisor_District set\n",
      "        # the next 9 features correspond to the number of 311 reports from each category from Source set\n",
      "        feature_vector[category_map[report[\"Category\"]]]+= 1\n",
      "        feature_vector[supervisor_map[report[\"Supervisor District\"]]]+= 1\n",
      "        #feature_vector[source_map[report[\"Source\"]]]+=1\n",
      "    feature_vector.append(len(reports_311))\n",
      "    return feature_vector\n",
      "\n",
      "def generate_output_vector(reports_911):\n",
      "    output_vector = []\n",
      "    for i in xrange(index2):\n",
      "        output_vector.append(0)\n",
      "    for report in reports_911:\n",
      "        #print report\n",
      "        output_vector[category_map_crime[report[\"Category\"]]]+= 1\n",
      "    output_vector.append(len(reports_911))\n",
      "    return output_vector\n",
      "print \"done\""
     ],
     "language": "python",
     "metadata": {},
     "outputs": [
      {
       "output_type": "stream",
       "stream": "stdout",
       "text": [
        "done\n"
       ]
      }
     ],
     "prompt_number": 8
    },
    {
     "cell_type": "code",
     "collapsed": false,
     "input": [
      "print category_map\n",
      "print supervisor_map"
     ],
     "language": "python",
     "metadata": {},
     "outputs": [
      {
       "output_type": "stream",
       "stream": "stdout",
       "text": [
        "{'Streetlights': 0, 'Abandoned Vehicle': 1, 'Interdepartmental Request': 2, 'MUNI Feedback': 3, 'Graffiti Private Property': 4, 'DPW Volunteer Programs': 5, 'Tree Maintenance': 6, 'Construction Zone Permits': 20, 'Residential Building Request': 8, 'Blocked Street or SideWalk': 9, 'Sidewalk or Curb': 10, 'Temporary Sign Request': 11, 'Sewer Issues': 12, '311 External Request': 13, 'Litter Receptacles': 14, 'Catch Basin Maintenance': 15, 'Street Defects': 16, 'Street and Sidewalk Cleaning': 17, 'Color Curb': 18, 'SFHA Requests': 19, 'Rec and Park Requests': 7, 'Graffiti Public Property': 21, 'Illegal Postings': 22, 'Damaged Property': 23, 'Unpermitted Cab Complaint': 24, 'General Requests': 25, 'Sign Repair': 26}\n",
        "{0: 27, 1: 28, 2: 29, 3: 30, 4: 31, 5: 32, 6: 33, 7: 34, 8: 35, 9: 36, 10: 37, 11: 38}\n"
       ]
      }
     ],
     "prompt_number": 9
    },
    {
     "cell_type": "code",
     "collapsed": false,
     "input": [
      "count = 0\n",
      "df_dict = {}\n",
      "df_dict['vector'] = []\n",
      "\n",
      "for row_tuple in df.iterrows():\n",
      "    count += 1\n",
      "    if count > 3000000000000000000: \n",
      "        break\n",
      "    row = row_tuple[1] # a pandas Series\n",
      "    dct = (row['feature-311'])\n",
      "    f_in = generate_feature_vector(dct)\n",
      "    dct2 = (row['911-reports'])\n",
      "    f_out = generate_output_vector(dct2)\n",
      "    f_both = f_in + f_out\n",
      "    df_dict['vector'].append(f_both)\n",
      "print \"done\""
     ],
     "language": "python",
     "metadata": {},
     "outputs": [
      {
       "output_type": "stream",
       "stream": "stdout",
       "text": [
        "done\n"
       ]
      }
     ],
     "prompt_number": 10
    },
    {
     "cell_type": "code",
     "collapsed": false,
     "input": [
      "print index\n",
      "print index2\n",
      "print category_map_crime"
     ],
     "language": "python",
     "metadata": {},
     "outputs": [
      {
       "output_type": "stream",
       "stream": "stdout",
       "text": [
        "39\n",
        "37\n",
        "{'KIDNAPPING': 0, 'WEAPON LAWS': 1, 'WARRANTS': 2, 'PROSTITUTION': 3, 'EMBEZZLEMENT': 4, 'SEX OFFENSES, NON FORCIBLE': 5, 'PORNOGRAPHY/OBSCENE MAT': 29, 'FRAUD': 20, 'DRIVING UNDER THE INFLUENCE': 8, 'ROBBERY': 9, 'BURGLARY': 10, 'STOLEN PROPERTY': 32, 'SUSPICIOUS OCC': 11, 'ARSON': 17, 'ASSAULT': 33, 'FORGERY/COUNTERFEITING': 14, 'BAD CHECKS': 15, 'DRUNKENNESS': 16, 'GAMBLING': 18, 'OTHER OFFENSES': 19, 'SUICIDE': 7, 'RECOVERED VEHICLE': 21, 'SEX OFFENSES, FORCIBLE': 22, 'DRUG/NARCOTIC': 23, 'TRESPASS': 24, 'LOITERING': 6, 'VANDALISM': 26, 'MISSING PERSON': 34, 'LIQUOR LAWS': 30, 'VEHICLE THEFT': 31, 'EXTORTION': 28, 'BRIBERY': 13, 'FAMILY OFFENSES': 12, 'NON-CRIMINAL': 27, 'DISORDERLY CONDUCT': 35, 'RUNAWAY': 36, 'LARCENY/THEFT': 25}\n"
       ]
      }
     ],
     "prompt_number": 11
    },
    {
     "cell_type": "code",
     "collapsed": false,
     "input": [
      "len(df_dict['vector'][0])"
     ],
     "language": "python",
     "metadata": {},
     "outputs": [
      {
       "metadata": {},
       "output_type": "pyout",
       "prompt_number": 12,
       "text": [
        "78"
       ]
      }
     ],
     "prompt_number": 12
    },
    {
     "cell_type": "code",
     "collapsed": false,
     "input": [
      "final_df = pd.DataFrame(df_dict)\n",
      "len((final_df.iloc[0])[0])"
     ],
     "language": "python",
     "metadata": {},
     "outputs": [
      {
       "metadata": {},
       "output_type": "pyout",
       "prompt_number": 13,
       "text": [
        "78"
       ]
      }
     ],
     "prompt_number": 13
    },
    {
     "cell_type": "code",
     "collapsed": false,
     "input": [
      "# use the joined table to create a matrix.  \n",
      "# The matrix will be Nx(D+1), where N is the number of unique tuples, and D is the number of features in \n",
      "# our feature vector.  The last column of the matrix corresponds to the feature-911, i.e. the number\n",
      "# of 911 reports in the given location/time.\n",
      "import numpy as np\n",
      "N = len(final_df)\n",
      "D = final_df['vector']\n",
      "#print type(D[i])\n",
      "mat = np.zeros([N, len(D[0])])\n",
      "for i in xrange(N):\n",
      "    mat[i,] = D[i]\n",
      "print len(mat[13])"
     ],
     "language": "python",
     "metadata": {},
     "outputs": [
      {
       "output_type": "stream",
       "stream": "stdout",
       "text": [
        "78\n"
       ]
      }
     ],
     "prompt_number": 14
    },
    {
     "cell_type": "code",
     "collapsed": false,
     "input": [
      "np.savetxt(\"joined_matrix_split.txt\", mat)"
     ],
     "language": "python",
     "metadata": {},
     "outputs": [],
     "prompt_number": 15
    },
    {
     "cell_type": "code",
     "collapsed": false,
     "input": [
      "print len(mat)\n",
      "print mat[0]\n",
      "print len(mat[0])"
     ],
     "language": "python",
     "metadata": {},
     "outputs": [
      {
       "output_type": "stream",
       "stream": "stdout",
       "text": [
        "249147\n",
        "[ 0.  0.  0.  0.  2.  0.  0.  0.  0.  0.  0.  0.  0.  1.  0.  0.  0.  0.\n",
        "  0.  0.  0.  0.  0.  0.  0.  0.  1.  0.  0.  0.  0.  0.  2.  2.  0.  0.\n",
        "  0.  0.  0.  4.  0.  0.  0.  0.  0.  0.  0.  0.  0.  0.  0.  0.  0.  0.\n",
        "  0.  0.  0.  0.  0.  0.  0.  0.  0.  0.  0.  0.  0.  0.  0.  0.  0.  0.\n",
        "  0.  0.  0.  0.  0.  0.]\n",
        "78\n"
       ]
      }
     ],
     "prompt_number": 16
    },
    {
     "cell_type": "code",
     "collapsed": false,
     "input": [
      "intmat = mat.astype(int)"
     ],
     "language": "python",
     "metadata": {},
     "outputs": [],
     "prompt_number": 18
    },
    {
     "cell_type": "code",
     "collapsed": false,
     "input": [
      "import matplotlib.pyplot as plt"
     ],
     "language": "python",
     "metadata": {},
     "outputs": [],
     "prompt_number": 19
    },
    {
     "cell_type": "code",
     "collapsed": false,
     "input": [
      "np.bincount(intmat[:,44])\n",
      "for k in category_map_crime:\n",
      "    i = category_map_crime[k]\n",
      "    print k + \": \" + str(np.bincount(intmat[:,40+i]))"
     ],
     "language": "python",
     "metadata": {},
     "outputs": [
      {
       "output_type": "stream",
       "stream": "stdout",
       "text": [
        "KIDNAPPING: [247347   1701     97      2]\n",
        "WEAPON LAWS: [244746   3757    556     69     16      1      1      1]\n",
        "WARRANTS: [226669  15941   4394   1413    510    147     43     22      3      2\n",
        "      1      2]\n",
        "PROSTITUTION: [247627    868    356    139     67     27     22     14     12      3\n",
        "      4      5      2      1]\n",
        "EMBEZZLEMENT: [248454    678     11      3      1]\n",
        "SEX OFFENSES, NON FORCIBLE: [249050     97]\n",
        "PORNOGRAPHY/OBSCENE MAT: [249135     12]\n",
        "FRAUD: [238377   9613    976    144     33      4]\n",
        "DRIVING UNDER THE INFLUENCE: [247403   1658     78      8]\n",
        "ROBBERY: [234573  12531   1702    274     55     11      1]\n",
        "BURGLARY: [227944  18427   2319    359     78     18      0      2]\n",
        "STOLEN PROPERTY: [248357    756     30      4]\n",
        "SUSPICIOUS OCC: [233142  14541   1301    144     15      4]\n",
        "ARSON: [248298    820     25      3      0      1]\n",
        "ASSAULT: [214942  23795   7100   2213    740    241     77     28      6      3\n",
        "      1      0      1]"
       ]
      },
      {
       "output_type": "stream",
       "stream": "stdout",
       "text": [
        "\n",
        "FORGERY/COUNTERFEITING: [245031   3708    354     44      7      2      0      0      1]\n",
        "BAD CHECKS: [248944    201      2]\n",
        "DRUNKENNESS: [245925   3030    171     16      2      1      1      1]\n",
        "GAMBLING: [249074     67      6]\n",
        "OTHER OFFENSES: [197798  32945  10349   4227   1909    997    448    222    126     50\n",
        "     27     31      5      3      3      1      2      1      2      0\n",
        "      0      0      1]\n",
        "SUICIDE: [248790    355      1      1]\n",
        "RECOVERED VEHICLE: [246531   2555     59      1      0      0      0      0      0      0\n",
        "      1]\n",
        "SEX OFFENSES, FORCIBLE: [246649   2272    195     28      3]\n",
        "DRUG/NARCOTIC: [230431   8809   5022   2189   1094    599    400    230    134     85\n",
        "     62     41     20     18      6      1      3      0      3]\n",
        "TRESPASS: [244651   4233    244     14      3      2]\n",
        "LOITERING: [248619    480     41      5      2]\n",
        "VANDALISM: [222753  22503   3213    537    113     17      3      4      1      1\n",
        "      1      0      0      0      0      0      1]\n",
        "MISSING PERSON: [236519   5966   5835    438    320     27     29      5      4      2\n",
        "      2]\n",
        "LIQUOR LAWS: [247930   1146     59     10      2]"
       ]
      },
      {
       "output_type": "stream",
       "stream": "stdout",
       "text": [
        "\n",
        "VEHICLE THEFT: [227792  18391   2606    309     41      6      0      0      1      0\n",
        "      1]\n",
        "EXTORTION: [248932    206      8      1]\n",
        "BRIBERY: [249085     62]\n",
        "FAMILY OFFENSES: [248936    201      8      2]\n",
        "NON-CRIMINAL: [202958  32799   8464   3015   1182    461    167     64     22      8\n",
        "      5      1      1]\n",
        "DISORDERLY CONDUCT: [246110   2676    317     42      2]\n",
        "RUNAWAY: [247836   1235     71      4      0      1]\n",
        "LARCENY/THEFT: [179767  40762  14188   6184   3148   1768   1058    749    521    352\n",
        "    220    156    104     66     42     25     16      7      4      3\n",
        "      3      3      0      0      1]\n"
       ]
      }
     ],
     "prompt_number": 54
    },
    {
     "cell_type": "code",
     "collapsed": false,
     "input": [
      "#plt.hist((intmat[:,-1]))\n",
      "#plt.show()\n",
      "np.bincount(intmat[:,40+37])"
     ],
     "language": "python",
     "metadata": {},
     "outputs": [
      {
       "metadata": {},
       "output_type": "pyout",
       "prompt_number": 57,
       "text": [
        "array([101219,  48819,  30121,  19087,  12030,   7973,   5536,   3911,\n",
        "         3033,   2305,   1956,   1711,   1465,   1362,   1224,   1034,\n",
        "          890,    830,    700,    651,    593,    472,    394,    332,\n",
        "          260,    230,    212,    177,    145,    111,     80,     61,\n",
        "           42,     41,     33,     28,     13,     18,     10,      9,\n",
        "            7,      7,      2,      4,      4,      0,      3,      2])"
       ]
      }
     ],
     "prompt_number": 57
    }
   ],
   "metadata": {}
  }
 ]
}