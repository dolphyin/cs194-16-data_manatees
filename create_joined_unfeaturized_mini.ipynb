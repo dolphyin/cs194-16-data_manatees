{
 "metadata": {
  "name": "",
  "signature": "sha256:69bec1bcfb9a3fe99b8d825fb85790d3cf5b39fa41f43142f0ed72ef0368d694"
 },
 "nbformat": 3,
 "nbformat_minor": 0,
 "worksheets": [
  {
   "cells": [
    {
     "cell_type": "code",
     "collapsed": false,
     "input": [
      "# converts joined_unfeaturized.csv to joined_unfeaturized_mini.csv\n",
      "\n",
      "DATA_PATH = \"joined_unfeaturized.csv\" \n",
      "import pandas as pd\n",
      "full_df = pd.read_csv(DATA_PATH, na_values=['-'])\n",
      "full_df = full_df.where((pd.notnull(full_df)), None)\n",
      "full_df.head(1)"
     ],
     "language": "python",
     "metadata": {},
     "outputs": [
      {
       "html": [
        "<div style=\"max-height:1000px;max-width:1500px;overflow:auto;\">\n",
        "<table border=\"1\" class=\"dataframe\">\n",
        "  <thead>\n",
        "    <tr style=\"text-align: right;\">\n",
        "      <th></th>\n",
        "      <th>feature-311</th>\n",
        "      <th>tuple</th>\n",
        "      <th>911-reports</th>\n",
        "    </tr>\n",
        "  </thead>\n",
        "  <tbody>\n",
        "    <tr>\n",
        "      <th>0</th>\n",
        "      <td> [{'Category': 'Sign Repair', 'TimeBin': 627414...</td>\n",
        "      <td> (6274149.810962193, -122.42479733333332, 37.77...</td>\n",
        "      <td> []</td>\n",
        "    </tr>\n",
        "  </tbody>\n",
        "</table>\n",
        "</div>"
       ],
       "metadata": {},
       "output_type": "pyout",
       "prompt_number": 1,
       "text": [
        "                                         feature-311  \\\n",
        "0  [{'Category': 'Sign Repair', 'TimeBin': 627414...   \n",
        "\n",
        "                                               tuple 911-reports  \n",
        "0  (6274149.810962193, -122.42479733333332, 37.77...          []  "
       ]
      }
     ],
     "prompt_number": 1
    },
    {
     "cell_type": "code",
     "collapsed": false,
     "input": [
      "lst = []\n",
      "for i in xrange(len(full_df)):\n",
      "    lst.append((i%10)==0)\n",
      "mini_df = full_df[pd.Series(lst)]\n",
      "mini_df.head(3)"
     ],
     "language": "python",
     "metadata": {},
     "outputs": [
      {
       "html": [
        "<div style=\"max-height:1000px;max-width:1500px;overflow:auto;\">\n",
        "<table border=\"1\" class=\"dataframe\">\n",
        "  <thead>\n",
        "    <tr style=\"text-align: right;\">\n",
        "      <th></th>\n",
        "      <th>feature-311</th>\n",
        "      <th>tuple</th>\n",
        "      <th>911-reports</th>\n",
        "    </tr>\n",
        "  </thead>\n",
        "  <tbody>\n",
        "    <tr>\n",
        "      <th>0 </th>\n",
        "      <td> [{'Category': 'Sign Repair', 'TimeBin': 627414...</td>\n",
        "      <td> (6274149.810962193, -122.42479733333332, 37.77...</td>\n",
        "      <td> []</td>\n",
        "    </tr>\n",
        "    <tr>\n",
        "      <th>10</th>\n",
        "      <td> [{'Category': 'Sidewalk or Curb', 'TimeBin': 1...</td>\n",
        "      <td> (16110397.579115825, -122.43828377777778, 37.7...</td>\n",
        "      <td> []</td>\n",
        "    </tr>\n",
        "    <tr>\n",
        "      <th>20</th>\n",
        "      <td> [{'Category': 'General Requests', 'TimeBin': 1...</td>\n",
        "      <td> (170454482.92878577, -122.45177022222221, 37.7...</td>\n",
        "      <td> []</td>\n",
        "    </tr>\n",
        "  </tbody>\n",
        "</table>\n",
        "</div>"
       ],
       "metadata": {},
       "output_type": "pyout",
       "prompt_number": 21,
       "text": [
        "                                          feature-311  \\\n",
        "0   [{'Category': 'Sign Repair', 'TimeBin': 627414...   \n",
        "10  [{'Category': 'Sidewalk or Curb', 'TimeBin': 1...   \n",
        "20  [{'Category': 'General Requests', 'TimeBin': 1...   \n",
        "\n",
        "                                                tuple 911-reports  \n",
        "0   (6274149.810962193, -122.42479733333332, 37.77...          []  \n",
        "10  (16110397.579115825, -122.43828377777778, 37.7...          []  \n",
        "20  (170454482.92878577, -122.45177022222221, 37.7...          []  "
       ]
      }
     ],
     "prompt_number": 21
    },
    {
     "cell_type": "code",
     "collapsed": false,
     "input": [
      "#store joined dataframe into csv.\n",
      "mini_df.to_csv('joined_unfeaturized_mini.csv', index_label=False)"
     ],
     "language": "python",
     "metadata": {},
     "outputs": [],
     "prompt_number": 22
    }
   ],
   "metadata": {}
  }
 ]
}