{
 "metadata": {
  "name": "",
  "signature": "sha256:27f5379a42163cb92ca05d6505cd004d00d314099194d30d05e7d5edd80a9666"
 },
 "nbformat": 3,
 "nbformat_minor": 0,
 "worksheets": [
  {
   "cells": [
    {
     "cell_type": "markdown",
     "metadata": {},
     "source": [
      "data_count_extractor provides helpful functions to process the data to get the counts of certain crime types divided by location and time. Time granularity can be set using day, year, or month."
     ]
    },
    {
     "cell_type": "code",
     "collapsed": false,
     "input": [
      "import numpy as np\n",
      "import pandas as pd\n",
      "\n",
      "data_path = \"data/Case_Data_from_San_Francisco_311__SF311_.csv\"\n",
      "\n",
      "def get_loc_time_counts(csv_path, time_interval, location_interval, x_interval, y_interval, n_bins):\n",
      "    \"\"\"\n",
      "    Gets the counts for each category of time divided by pdDistrict and time.\n",
      "    \n",
      "    @params csv_path string to csv_file\n",
      "    @params time string granularity of time split\n",
      "        \"d\" : split by day/month/year\n",
      "        \"m\" : split by month/year\n",
      "        \"y\" : split by year\n",
      "    @params location_interval float size of each inteval in location grid\n",
      "    @params min_x, min_y x,y coordinate of where to start grid\n",
      "        Note: this argument is required because the max/min of 311 may not \n",
      "            be the same as 911\n",
      "    @return pd.Dataframe [datetime, location, category, count]\n",
      "    \"\"\"\n",
      "    data = pd.read_csv(csv_path, low_memory=False)\n",
      "    \n",
      "    # map each point to a location interval\n",
      "    x_min = x_interval[0]\n",
      "    x_max = x_interval[1]\n",
      "    x_bins = create_bins(min_x, max_x, n_bins)\n",
      "    \n",
      "    y_min = y_interval[0]\n",
      "    y_max = y_interval[1]\n",
      "    y_bins = create_bins(min_y, max_y, n_bins)\n",
      "    \n",
      "    xy_bins_col = data.apply(lambda row: get_xy(row['Point']))\n",
      "    \n",
      "    \n",
      "    # map each point to a datetime interval\n",
      "    \n",
      "    \n",
      "    for district_name, district_data in data.groupby(\"PdDistrict\"):\n",
      "        \n",
      "        for date_time, date_time_data in district_data.groupby(\"DateTime\"):\n",
      "            crime_counts = date_time_data.groupby(\"Category\").size()\n",
      "\n",
      "            \n",
      "def get_xy(point):\n",
      "    \"\"\"\n",
      "    Gets the x_point from an input string point.\n",
      "    \n",
      "    @params point string '(x,y)' coordinate \n",
      "    @return (x,y) float\n",
      "    \"\"\" \n",
      "    x_str, y_str = point.split(',')\n",
      "    return float(x_str[1:]), float(y_str[:-1])\n",
      "\n",
      "\n",
      "def create_bins(min_pt, max_pt, n):\n",
      "    \"\"\"\n",
      "    Creates n equally spaced bins between min_pt and max_pt\n",
      "    \n",
      "    @params min_pt float min value\n",
      "    @params max_pt float max value\n",
      "    @params n number of bins to create\n",
      "    @return np.array bin values\n",
      "    \"\"\"\n",
      "    return np.linspace(min_pt, max_pt, n)\n",
      "\n",
      "def get_bin(bins, val):\n",
      "    \"\"\"\n",
      "    Determines which bin the input val falls into. Bins are represented \n",
      "    by an increasing np.array. Val is assigned to the highest bin whose \n",
      "    value is less than val. (e.g. for bins [0.0, 0.5, 1.0], 0.25 would \n",
      "    be assigned to bin 0.0, 0.75 would be assigned to 0.5)\n",
      "    \n",
      "    @params bins np.array of increasing values\n",
      "    @params val float to bin\n",
      "    @return bin that val belongs to\n",
      "    \"\"\"\n",
      "    for bin in bins[::-1]: # iterate through bins in reverse order\n",
      "        if val >= bin:\n",
      "            return bin\n",
      "    \n",
      "    "
     ],
     "language": "python",
     "metadata": {},
     "outputs": [],
     "prompt_number": 4
    },
    {
     "cell_type": "code",
     "collapsed": false,
     "input": [
      "data = pd.read_csv(data_path,\n",
      "                   names=[\"CaseID\", \"Opened\", \"Closed\", \"Updated\", \"Status\", \"Responsible Agency\",\n",
      "                          \"Category\", \"Request Type\", \"Request Details\", \"Address\", \n",
      "                          \"Supervisor District\", \"Neighborhood\", \"Point\", \"Source\", \"Media URL\"],\n",
      "                   na_values=['-', ''],\n",
      "                   low_memory=False)\n",
      "\n",
      "# drop NaN rows\n",
      "data = data.dropna(axis=1, how='all')"
     ],
     "language": "python",
     "metadata": {},
     "outputs": [],
     "prompt_number": 19
    },
    {
     "cell_type": "code",
     "collapsed": false,
     "input": [],
     "language": "python",
     "metadata": {},
     "outputs": [
      {
       "metadata": {},
       "output_type": "pyout",
       "prompt_number": 21,
       "text": [
        "(1097196, 15)"
       ]
      }
     ],
     "prompt_number": 21
    },
    {
     "cell_type": "code",
     "collapsed": false,
     "input": [
      "x_interval = (-122.3051, -122.9431)\n",
      "y_interval = (37.8001, 38.531)\n",
      "n_bins = 10\n",
      "\n",
      "# map each point to a location interval\n",
      "x_min = x_interval[0]\n",
      "x_max = x_interval[1]\n",
      "x_bins = create_bins(x_min, x_max, n_bins)\n",
      "    \n",
      "y_min = y_interval[0]\n",
      "y_max = y_interval[1]\n",
      "y_bins = create_bins(y_min, y_max, n_bins)\n",
      "    \n",
      "xy_bins_col = data.apply(lambda row: get_xy(row['Point']), axis=1)"
     ],
     "language": "python",
     "metadata": {},
     "outputs": [
      {
       "ename": "AttributeError",
       "evalue": "(\"'float' object has no attribute 'split'\", u'occurred at index 1097196')",
       "output_type": "pyerr",
       "traceback": [
        "\u001b[1;31m---------------------------------------------------------------------------\u001b[0m\n\u001b[1;31mAttributeError\u001b[0m                            Traceback (most recent call last)",
        "\u001b[1;32m<ipython-input-28-68c22de3db63>\u001b[0m in \u001b[0;36m<module>\u001b[1;34m()\u001b[0m\n\u001b[0;32m     12\u001b[0m \u001b[0my_bins\u001b[0m \u001b[1;33m=\u001b[0m \u001b[0mcreate_bins\u001b[0m\u001b[1;33m(\u001b[0m\u001b[0my_min\u001b[0m\u001b[1;33m,\u001b[0m \u001b[0my_max\u001b[0m\u001b[1;33m,\u001b[0m \u001b[0mn_bins\u001b[0m\u001b[1;33m)\u001b[0m\u001b[1;33m\u001b[0m\u001b[0m\n\u001b[0;32m     13\u001b[0m \u001b[1;33m\u001b[0m\u001b[0m\n\u001b[1;32m---> 14\u001b[1;33m \u001b[0mxy_bins_col\u001b[0m \u001b[1;33m=\u001b[0m \u001b[0mdata\u001b[0m\u001b[1;33m.\u001b[0m\u001b[0mapply\u001b[0m\u001b[1;33m(\u001b[0m\u001b[1;32mlambda\u001b[0m \u001b[0mrow\u001b[0m\u001b[1;33m:\u001b[0m \u001b[0mget_xy\u001b[0m\u001b[1;33m(\u001b[0m\u001b[0mrow\u001b[0m\u001b[1;33m[\u001b[0m\u001b[1;34m'Point'\u001b[0m\u001b[1;33m]\u001b[0m\u001b[1;33m)\u001b[0m\u001b[1;33m,\u001b[0m \u001b[0maxis\u001b[0m\u001b[1;33m=\u001b[0m\u001b[1;36m1\u001b[0m\u001b[1;33m)\u001b[0m\u001b[1;33m\u001b[0m\u001b[0m\n\u001b[0m",
        "\u001b[1;32m/usr/lib/python2.7/dist-packages/pandas/core/frame.pyc\u001b[0m in \u001b[0;36mapply\u001b[1;34m(self, func, axis, broadcast, raw, reduce, args, **kwds)\u001b[0m\n\u001b[0;32m   3310\u001b[0m                     \u001b[1;32mif\u001b[0m \u001b[0mreduce\u001b[0m \u001b[1;32mis\u001b[0m \u001b[0mNone\u001b[0m\u001b[1;33m:\u001b[0m\u001b[1;33m\u001b[0m\u001b[0m\n\u001b[0;32m   3311\u001b[0m                         \u001b[0mreduce\u001b[0m \u001b[1;33m=\u001b[0m \u001b[0mTrue\u001b[0m\u001b[1;33m\u001b[0m\u001b[0m\n\u001b[1;32m-> 3312\u001b[1;33m                     \u001b[1;32mreturn\u001b[0m \u001b[0mself\u001b[0m\u001b[1;33m.\u001b[0m\u001b[0m_apply_standard\u001b[0m\u001b[1;33m(\u001b[0m\u001b[0mf\u001b[0m\u001b[1;33m,\u001b[0m \u001b[0maxis\u001b[0m\u001b[1;33m,\u001b[0m \u001b[0mreduce\u001b[0m\u001b[1;33m=\u001b[0m\u001b[0mreduce\u001b[0m\u001b[1;33m)\u001b[0m\u001b[1;33m\u001b[0m\u001b[0m\n\u001b[0m\u001b[0;32m   3313\u001b[0m             \u001b[1;32melse\u001b[0m\u001b[1;33m:\u001b[0m\u001b[1;33m\u001b[0m\u001b[0m\n\u001b[0;32m   3314\u001b[0m                 \u001b[1;32mreturn\u001b[0m \u001b[0mself\u001b[0m\u001b[1;33m.\u001b[0m\u001b[0m_apply_broadcast\u001b[0m\u001b[1;33m(\u001b[0m\u001b[0mf\u001b[0m\u001b[1;33m,\u001b[0m \u001b[0maxis\u001b[0m\u001b[1;33m)\u001b[0m\u001b[1;33m\u001b[0m\u001b[0m\n",
        "\u001b[1;32m/usr/lib/python2.7/dist-packages/pandas/core/frame.pyc\u001b[0m in \u001b[0;36m_apply_standard\u001b[1;34m(self, func, axis, ignore_failures, reduce)\u001b[0m\n\u001b[0;32m   3398\u001b[0m             \u001b[1;32mtry\u001b[0m\u001b[1;33m:\u001b[0m\u001b[1;33m\u001b[0m\u001b[0m\n\u001b[0;32m   3399\u001b[0m                 \u001b[1;32mfor\u001b[0m \u001b[0mi\u001b[0m\u001b[1;33m,\u001b[0m \u001b[0mv\u001b[0m \u001b[1;32min\u001b[0m \u001b[0menumerate\u001b[0m\u001b[1;33m(\u001b[0m\u001b[0mseries_gen\u001b[0m\u001b[1;33m)\u001b[0m\u001b[1;33m:\u001b[0m\u001b[1;33m\u001b[0m\u001b[0m\n\u001b[1;32m-> 3400\u001b[1;33m                     \u001b[0mresults\u001b[0m\u001b[1;33m[\u001b[0m\u001b[0mi\u001b[0m\u001b[1;33m]\u001b[0m \u001b[1;33m=\u001b[0m \u001b[0mfunc\u001b[0m\u001b[1;33m(\u001b[0m\u001b[0mv\u001b[0m\u001b[1;33m)\u001b[0m\u001b[1;33m\u001b[0m\u001b[0m\n\u001b[0m\u001b[0;32m   3401\u001b[0m                     \u001b[0mkeys\u001b[0m\u001b[1;33m.\u001b[0m\u001b[0mappend\u001b[0m\u001b[1;33m(\u001b[0m\u001b[0mv\u001b[0m\u001b[1;33m.\u001b[0m\u001b[0mname\u001b[0m\u001b[1;33m)\u001b[0m\u001b[1;33m\u001b[0m\u001b[0m\n\u001b[0;32m   3402\u001b[0m             \u001b[1;32mexcept\u001b[0m \u001b[0mException\u001b[0m \u001b[1;32mas\u001b[0m \u001b[0me\u001b[0m\u001b[1;33m:\u001b[0m\u001b[1;33m\u001b[0m\u001b[0m\n",
        "\u001b[1;32m<ipython-input-28-68c22de3db63>\u001b[0m in \u001b[0;36m<lambda>\u001b[1;34m(row)\u001b[0m\n\u001b[0;32m     12\u001b[0m \u001b[0my_bins\u001b[0m \u001b[1;33m=\u001b[0m \u001b[0mcreate_bins\u001b[0m\u001b[1;33m(\u001b[0m\u001b[0my_min\u001b[0m\u001b[1;33m,\u001b[0m \u001b[0my_max\u001b[0m\u001b[1;33m,\u001b[0m \u001b[0mn_bins\u001b[0m\u001b[1;33m)\u001b[0m\u001b[1;33m\u001b[0m\u001b[0m\n\u001b[0;32m     13\u001b[0m \u001b[1;33m\u001b[0m\u001b[0m\n\u001b[1;32m---> 14\u001b[1;33m \u001b[0mxy_bins_col\u001b[0m \u001b[1;33m=\u001b[0m \u001b[0mdata\u001b[0m\u001b[1;33m.\u001b[0m\u001b[0mapply\u001b[0m\u001b[1;33m(\u001b[0m\u001b[1;32mlambda\u001b[0m \u001b[0mrow\u001b[0m\u001b[1;33m:\u001b[0m \u001b[0mget_xy\u001b[0m\u001b[1;33m(\u001b[0m\u001b[0mrow\u001b[0m\u001b[1;33m[\u001b[0m\u001b[1;34m'Point'\u001b[0m\u001b[1;33m]\u001b[0m\u001b[1;33m)\u001b[0m\u001b[1;33m,\u001b[0m \u001b[0maxis\u001b[0m\u001b[1;33m=\u001b[0m\u001b[1;36m1\u001b[0m\u001b[1;33m)\u001b[0m\u001b[1;33m\u001b[0m\u001b[0m\n\u001b[0m",
        "\u001b[1;32m<ipython-input-6-935e73fcdf6f>\u001b[0m in \u001b[0;36mget_xy\u001b[1;34m(point)\u001b[0m\n\u001b[0;32m     49\u001b[0m     \u001b[1;33m@\u001b[0m\u001b[1;32mreturn\u001b[0m \u001b[1;33m(\u001b[0m\u001b[0mx\u001b[0m\u001b[1;33m,\u001b[0m\u001b[0my\u001b[0m\u001b[1;33m)\u001b[0m \u001b[0mfloat\u001b[0m\u001b[1;33m\u001b[0m\u001b[0m\n\u001b[0;32m     50\u001b[0m     \"\"\" \n\u001b[1;32m---> 51\u001b[1;33m     \u001b[0mx_str\u001b[0m\u001b[1;33m,\u001b[0m \u001b[0my_str\u001b[0m \u001b[1;33m=\u001b[0m \u001b[0mpoint\u001b[0m\u001b[1;33m.\u001b[0m\u001b[0msplit\u001b[0m\u001b[1;33m(\u001b[0m\u001b[1;34m','\u001b[0m\u001b[1;33m)\u001b[0m\u001b[1;33m\u001b[0m\u001b[0m\n\u001b[0m\u001b[0;32m     52\u001b[0m     \u001b[1;32mreturn\u001b[0m \u001b[0mfloat\u001b[0m\u001b[1;33m(\u001b[0m\u001b[0mx_str\u001b[0m\u001b[1;33m[\u001b[0m\u001b[1;36m1\u001b[0m\u001b[1;33m:\u001b[0m\u001b[1;33m]\u001b[0m\u001b[1;33m)\u001b[0m\u001b[1;33m,\u001b[0m \u001b[0mfloat\u001b[0m\u001b[1;33m(\u001b[0m\u001b[0my_str\u001b[0m\u001b[1;33m[\u001b[0m\u001b[1;33m:\u001b[0m\u001b[1;33m-\u001b[0m\u001b[1;36m1\u001b[0m\u001b[1;33m]\u001b[0m\u001b[1;33m)\u001b[0m\u001b[1;33m\u001b[0m\u001b[0m\n\u001b[0;32m     53\u001b[0m \u001b[1;33m\u001b[0m\u001b[0m\n",
        "\u001b[1;31mAttributeError\u001b[0m: (\"'float' object has no attribute 'split'\", u'occurred at index 1097196')"
       ]
      }
     ],
     "prompt_number": 28
    },
    {
     "cell_type": "code",
     "collapsed": false,
     "input": [],
     "language": "python",
     "metadata": {},
     "outputs": [],
     "prompt_number": 30
    },
    {
     "cell_type": "code",
     "collapsed": false,
     "input": [],
     "language": "python",
     "metadata": {},
     "outputs": []
    }
   ],
   "metadata": {}
  }
 ]
}