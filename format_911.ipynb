{
 "metadata": {
  "name": "",
  "signature": "sha256:8492356d90d9df8e5d44ab31f8ec768ed2b2927b36c7e2f621923c8539d9e9db"
 },
 "nbformat": 3,
 "nbformat_minor": 0,
 "worksheets": [
  {
   "cells": [
    {
     "cell_type": "code",
     "collapsed": false,
     "input": [
      "DATA_PATH = \"data/data_911_combined.csv\" # Make this the /path/to/the/data\n",
      "import numpy as np\n",
      "import pandas as pd\n",
      "data_911 = pd.read_csv(DATA_PATH, na_values=['-'])\n",
      "data_911 = data_911.where((pd.notnull(data_911)), None)\n",
      "data_911.head()\n",
      "data_911.info()\n",
      "type(data_911.head()['DateTime'][0])"
     ],
     "language": "python",
     "metadata": {},
     "outputs": [
      {
       "output_type": "stream",
       "stream": "stdout",
       "text": [
        "<class 'pandas.core.frame.DataFrame'>\n",
        "Int64Index: 746596 entries, 0 to 746595\n",
        "Data columns (total 9 columns):\n",
        "Category      746596 non-null object\n",
        "Descript      746596 non-null object\n",
        "DayOfWeek     746596 non-null object\n",
        "DateTime      746596 non-null object\n",
        "PdDistrict    746596 non-null object\n",
        "Resolution    746596 non-null object\n",
        "Location      746596 non-null object\n",
        "X             746596 non-null float64\n",
        "Y             746596 non-null float64\n",
        "dtypes: float64(2), object(7)"
       ]
      },
      {
       "metadata": {},
       "output_type": "pyout",
       "prompt_number": 1,
       "text": [
        "str"
       ]
      }
     ],
     "prompt_number": 1
    },
    {
     "cell_type": "code",
     "collapsed": false,
     "input": [
      "#convert to datetime\n",
      "data_911['DateTime'] = pd.to_datetime(data_911['DateTime'])\n",
      "type(data_911.head()['DateTime'][0])"
     ],
     "language": "python",
     "metadata": {},
     "outputs": [
      {
       "metadata": {},
       "output_type": "pyout",
       "prompt_number": 2,
       "text": [
        "pandas.tslib.Timestamp"
       ]
      }
     ],
     "prompt_number": 2
    },
    {
     "cell_type": "code",
     "collapsed": false,
     "input": [
      "def create_bins(min_pt, max_pt, n):\n",
      "    \"\"\"\n",
      "    Creates n equally spaced bins between min_pt and max_pt\n",
      "    \n",
      "    @params min_pt float min value\n",
      "    @params max_pt float max value\n",
      "    @params n number of bins to create\n",
      "    @return np.array bin values\n",
      "    \"\"\"\n",
      "    return np.linspace(min_pt, max_pt, n)\n",
      "\n",
      "import bisect\n",
      "def get_bin(bins, val):\n",
      "    \"\"\"\n",
      "    Determines which bin the input val falls into. Bins are represented \n",
      "    by an increasing np.array. Val is assigned to the highest bin whose \n",
      "    value is less than val. (e.g. for bins [0.0, 0.5, 1.0], 0.25 would \n",
      "    be assigned to bin 0.0, 0.75 would be assigned to 0.5)\n",
      "    \n",
      "    @params bins np.array of increasing values\n",
      "    @params val float to bin\n",
      "    @return bin that val belongs to\n",
      "    \"\"\"\n",
      "    index = bisect.bisect_right(bins, val)-1 #bisect_left returns 2 with [0.0, 0.5, 1.0] and 0.75 as input\n",
      "    return bins[index]\n"
     ],
     "language": "python",
     "metadata": {},
     "outputs": [],
     "prompt_number": 3
    },
    {
     "cell_type": "code",
     "collapsed": false,
     "input": [
      "#temp.  don't cut off extremes\n",
      "#min_x_loc = -122.514436\n",
      "#max_x_loc = -119.850760\n",
      "#min_y_loc = 37.624394\n",
      "#max_y_loc = 37.881603\n",
      "#print \"done\"\n",
      "min_x_loc = -122.505716\n",
      "max_x_loc = -122.384338\n",
      "min_y_loc = 37.710652\n",
      "max_y_loc = 37.803545\n",
      "print \"min x location: %f\" % min_x_loc  #min x location: -122.505716\n",
      "print \"max x location: %f\" % max_x_loc  #max x location: -122.384338\n",
      "print \"min y location: %f\" % min_y_loc  #min y location: 37.710652\n",
      "print \"max y location: %f\" % max_y_loc  #max y location: 37.803545"
     ],
     "language": "python",
     "metadata": {},
     "outputs": [
      {
       "output_type": "stream",
       "stream": "stdout",
       "text": [
        "min x location: -122.505716\n",
        "max x location: -122.384338\n",
        "min y location: 37.710652\n",
        "max y location: 37.803545\n"
       ]
      }
     ],
     "prompt_number": 4
    },
    {
     "cell_type": "code",
     "collapsed": false,
     "input": [
      "#make time bin for 911 dataset\n",
      "mintime = pd.to_datetime('2008-07-01 00:13:00')\n",
      "maxtime = pd.to_datetime('2014-11-29 00:57:11')\n",
      "print maxtime-mintime\n",
      "#subtracting 2 datetimes creates a tdelta object\n",
      "bins = create_bins(0, (maxtime-mintime).total_seconds(), 5000)\n",
      "data_911['TimeBin'] = data_911.apply(lambda row: get_bin(bins, (row['DateTime']-mintime).total_seconds()), axis = 1)\n",
      "data_911.head()"
     ],
     "language": "python",
     "metadata": {},
     "outputs": [
      {
       "output_type": "stream",
       "stream": "stdout",
       "text": [
        "2342 days, 0:44:11\n"
       ]
      },
      {
       "html": [
        "<div style=\"max-height:1000px;max-width:1500px;overflow:auto;\">\n",
        "<table border=\"1\" class=\"dataframe\">\n",
        "  <thead>\n",
        "    <tr style=\"text-align: right;\">\n",
        "      <th></th>\n",
        "      <th>Category</th>\n",
        "      <th>Descript</th>\n",
        "      <th>DayOfWeek</th>\n",
        "      <th>DateTime</th>\n",
        "      <th>PdDistrict</th>\n",
        "      <th>Resolution</th>\n",
        "      <th>Location</th>\n",
        "      <th>X</th>\n",
        "      <th>Y</th>\n",
        "      <th>TimeBin</th>\n",
        "    </tr>\n",
        "  </thead>\n",
        "  <tbody>\n",
        "    <tr>\n",
        "      <th>0</th>\n",
        "      <td>                ASSAULT</td>\n",
        "      <td>                                         BATTERY</td>\n",
        "      <td> Thursday</td>\n",
        "      <td>2009-01-01 00:58:00</td>\n",
        "      <td>   CENTRAL</td>\n",
        "      <td> NONE</td>\n",
        "      <td>      200.0 Block of CLAY ST</td>\n",
        "      <td>-122.398584</td>\n",
        "      <td> 37.795269</td>\n",
        "      <td> 15867527.263853</td>\n",
        "    </tr>\n",
        "    <tr>\n",
        "      <th>1</th>\n",
        "      <td> SEX OFFENSES, FORCIBLE</td>\n",
        "      <td>               ASSAULT TO RAPE WITH BODILY FORCE</td>\n",
        "      <td> Thursday</td>\n",
        "      <td>2009-01-01 01:00:00</td>\n",
        "      <td>  SOUTHERN</td>\n",
        "      <td> NONE</td>\n",
        "      <td>    500.0 Block of HOWARD ST</td>\n",
        "      <td>-122.396540</td>\n",
        "      <td> 37.788093</td>\n",
        "      <td> 15867527.263853</td>\n",
        "    </tr>\n",
        "    <tr>\n",
        "      <th>2</th>\n",
        "      <td>                ROBBERY</td>\n",
        "      <td>                       ROBBERY, ARMED WITH A GUN</td>\n",
        "      <td> Thursday</td>\n",
        "      <td>2009-01-01 01:00:00</td>\n",
        "      <td>  SOUTHERN</td>\n",
        "      <td> NONE</td>\n",
        "      <td>    500.0 Block of HOWARD ST</td>\n",
        "      <td>-122.396540</td>\n",
        "      <td> 37.788093</td>\n",
        "      <td> 15867527.263853</td>\n",
        "    </tr>\n",
        "    <tr>\n",
        "      <th>3</th>\n",
        "      <td>               BURGLARY</td>\n",
        "      <td> BURGLARY OF APARTMENT HOUSE, ATT FORCIBLE ENTRY</td>\n",
        "      <td> Thursday</td>\n",
        "      <td>2009-01-01 01:00:00</td>\n",
        "      <td> INGLESIDE</td>\n",
        "      <td> NONE</td>\n",
        "      <td> 200.0 Block of BLYTHDALE AV</td>\n",
        "      <td>-122.421717</td>\n",
        "      <td> 37.711308</td>\n",
        "      <td> 15867527.263853</td>\n",
        "    </tr>\n",
        "    <tr>\n",
        "      <th>4</th>\n",
        "      <td>          LARCENY/THEFT</td>\n",
        "      <td>                  GRAND THEFT FROM UNLOCKED AUTO</td>\n",
        "      <td> Thursday</td>\n",
        "      <td>2009-01-01 01:00:00</td>\n",
        "      <td>   MISSION</td>\n",
        "      <td> NONE</td>\n",
        "      <td>     3700.0 Block of 21ST ST</td>\n",
        "      <td>-122.430888</td>\n",
        "      <td> 37.756204</td>\n",
        "      <td> 15867527.263853</td>\n",
        "    </tr>\n",
        "  </tbody>\n",
        "</table>\n",
        "</div>"
       ],
       "metadata": {},
       "output_type": "pyout",
       "prompt_number": 5,
       "text": [
        "                 Category                                         Descript  \\\n",
        "0                 ASSAULT                                          BATTERY   \n",
        "1  SEX OFFENSES, FORCIBLE                ASSAULT TO RAPE WITH BODILY FORCE   \n",
        "2                 ROBBERY                        ROBBERY, ARMED WITH A GUN   \n",
        "3                BURGLARY  BURGLARY OF APARTMENT HOUSE, ATT FORCIBLE ENTRY   \n",
        "4           LARCENY/THEFT                   GRAND THEFT FROM UNLOCKED AUTO   \n",
        "\n",
        "  DayOfWeek            DateTime PdDistrict Resolution  \\\n",
        "0  Thursday 2009-01-01 00:58:00    CENTRAL       NONE   \n",
        "1  Thursday 2009-01-01 01:00:00   SOUTHERN       NONE   \n",
        "2  Thursday 2009-01-01 01:00:00   SOUTHERN       NONE   \n",
        "3  Thursday 2009-01-01 01:00:00  INGLESIDE       NONE   \n",
        "4  Thursday 2009-01-01 01:00:00    MISSION       NONE   \n",
        "\n",
        "                      Location           X          Y          TimeBin  \n",
        "0       200.0 Block of CLAY ST -122.398584  37.795269  15867527.263853  \n",
        "1     500.0 Block of HOWARD ST -122.396540  37.788093  15867527.263853  \n",
        "2     500.0 Block of HOWARD ST -122.396540  37.788093  15867527.263853  \n",
        "3  200.0 Block of BLYTHDALE AV -122.421717  37.711308  15867527.263853  \n",
        "4      3700.0 Block of 21ST ST -122.430888  37.756204  15867527.263853  "
       ]
      }
     ],
     "prompt_number": 5
    },
    {
     "cell_type": "code",
     "collapsed": false,
     "input": [
      "#max_y_loc = 37.803545\n",
      "#min_y_loc = 37.710652\n",
      "#print \"min y location: %f\" % min_y_loc\n",
      "#print \"max y location: %f\" % max_y_loc\n",
      "#max_x_loc = -122.384338\n",
      "#min_x_loc = -122.505716\n",
      "#print \"min x location: %f\" % min_x_loc\n",
      "#print \"max x location: %f\" % max_x_loc"
     ],
     "language": "python",
     "metadata": {},
     "outputs": [],
     "prompt_number": 6
    },
    {
     "cell_type": "code",
     "collapsed": false,
     "input": [
      "xbins = create_bins(min_x_loc, max_x_loc, 10)\n",
      "ybins = create_bins(min_y_loc, max_y_loc, 10)\n",
      "\n",
      "data_911['XBin'] = data_911.apply(lambda row: get_bin(xbins, row['X']), axis = 1)\n",
      "data_911['YBin'] = data_911.apply(lambda row: get_bin(ybins, row['Y']), axis = 1)\n",
      "data_911 = data_911[['Category', 'Descript', 'PdDistrict', 'Resolution', 'TimeBin', 'XBin', 'YBin']]"
     ],
     "language": "python",
     "metadata": {},
     "outputs": [],
     "prompt_number": 7
    },
    {
     "cell_type": "code",
     "collapsed": false,
     "input": [
      "xbins"
     ],
     "language": "python",
     "metadata": {},
     "outputs": [
      {
       "metadata": {},
       "output_type": "pyout",
       "prompt_number": 8,
       "text": [
        "array([-122.505716  , -122.49222956, -122.47874311, -122.46525667,\n",
        "       -122.45177022, -122.43828378, -122.42479733, -122.41131089,\n",
        "       -122.39782444, -122.384338  ])"
       ]
      }
     ],
     "prompt_number": 8
    },
    {
     "cell_type": "code",
     "collapsed": false,
     "input": [
      "ybins"
     ],
     "language": "python",
     "metadata": {},
     "outputs": [
      {
       "metadata": {},
       "output_type": "pyout",
       "prompt_number": 9,
       "text": [
        "array([ 37.710652  ,  37.72097344,  37.73129489,  37.74161633,\n",
        "        37.75193778,  37.76225922,  37.77258067,  37.78290211,\n",
        "        37.79322356,  37.803545  ])"
       ]
      }
     ],
     "prompt_number": 9
    },
    {
     "cell_type": "code",
     "collapsed": false,
     "input": [
      "#store into csv as checkpoint\n",
      "\n",
      "data_911.to_csv('intermediate_911.csv', index_label=False)"
     ],
     "language": "python",
     "metadata": {},
     "outputs": [],
     "prompt_number": 10
    },
    {
     "cell_type": "code",
     "collapsed": false,
     "input": [
      "#DATA_PATH = \"/home/datascience/project/intermediate_911.csv\" # Make this the /path/to/the/data\n",
      "\n",
      "DATA_PATH = \"intermediate_911.csv\" # path of amazon machine\n",
      "\n",
      "import pandas as pd\n",
      "\n",
      "data_911 = pd.read_csv(DATA_PATH, na_values=['-'])\n",
      "data_911 = data_911.where((pd.notnull(data_911)), None)\n",
      "data_911.head()"
     ],
     "language": "python",
     "metadata": {},
     "outputs": [
      {
       "html": [
        "<div style=\"max-height:1000px;max-width:1500px;overflow:auto;\">\n",
        "<table border=\"1\" class=\"dataframe\">\n",
        "  <thead>\n",
        "    <tr style=\"text-align: right;\">\n",
        "      <th></th>\n",
        "      <th>Category</th>\n",
        "      <th>Descript</th>\n",
        "      <th>PdDistrict</th>\n",
        "      <th>Resolution</th>\n",
        "      <th>TimeBin</th>\n",
        "      <th>XBin</th>\n",
        "      <th>YBin</th>\n",
        "    </tr>\n",
        "  </thead>\n",
        "  <tbody>\n",
        "    <tr>\n",
        "      <th>0</th>\n",
        "      <td>                ASSAULT</td>\n",
        "      <td>                                         BATTERY</td>\n",
        "      <td>   CENTRAL</td>\n",
        "      <td> NONE</td>\n",
        "      <td> 15867527.263853</td>\n",
        "      <td>-122.411311</td>\n",
        "      <td> 37.793224</td>\n",
        "    </tr>\n",
        "    <tr>\n",
        "      <th>1</th>\n",
        "      <td> SEX OFFENSES, FORCIBLE</td>\n",
        "      <td>               ASSAULT TO RAPE WITH BODILY FORCE</td>\n",
        "      <td>  SOUTHERN</td>\n",
        "      <td> NONE</td>\n",
        "      <td> 15867527.263853</td>\n",
        "      <td>-122.397824</td>\n",
        "      <td> 37.782902</td>\n",
        "    </tr>\n",
        "    <tr>\n",
        "      <th>2</th>\n",
        "      <td>                ROBBERY</td>\n",
        "      <td>                       ROBBERY, ARMED WITH A GUN</td>\n",
        "      <td>  SOUTHERN</td>\n",
        "      <td> NONE</td>\n",
        "      <td> 15867527.263853</td>\n",
        "      <td>-122.397824</td>\n",
        "      <td> 37.782902</td>\n",
        "    </tr>\n",
        "    <tr>\n",
        "      <th>3</th>\n",
        "      <td>               BURGLARY</td>\n",
        "      <td> BURGLARY OF APARTMENT HOUSE, ATT FORCIBLE ENTRY</td>\n",
        "      <td> INGLESIDE</td>\n",
        "      <td> NONE</td>\n",
        "      <td> 15867527.263853</td>\n",
        "      <td>-122.424797</td>\n",
        "      <td> 37.710652</td>\n",
        "    </tr>\n",
        "    <tr>\n",
        "      <th>4</th>\n",
        "      <td>          LARCENY/THEFT</td>\n",
        "      <td>                  GRAND THEFT FROM UNLOCKED AUTO</td>\n",
        "      <td>   MISSION</td>\n",
        "      <td> NONE</td>\n",
        "      <td> 15867527.263853</td>\n",
        "      <td>-122.438284</td>\n",
        "      <td> 37.751938</td>\n",
        "    </tr>\n",
        "  </tbody>\n",
        "</table>\n",
        "</div>"
       ],
       "metadata": {},
       "output_type": "pyout",
       "prompt_number": 11,
       "text": [
        "                 Category                                         Descript  \\\n",
        "0                 ASSAULT                                          BATTERY   \n",
        "1  SEX OFFENSES, FORCIBLE                ASSAULT TO RAPE WITH BODILY FORCE   \n",
        "2                 ROBBERY                        ROBBERY, ARMED WITH A GUN   \n",
        "3                BURGLARY  BURGLARY OF APARTMENT HOUSE, ATT FORCIBLE ENTRY   \n",
        "4           LARCENY/THEFT                   GRAND THEFT FROM UNLOCKED AUTO   \n",
        "\n",
        "  PdDistrict Resolution          TimeBin        XBin       YBin  \n",
        "0    CENTRAL       NONE  15867527.263853 -122.411311  37.793224  \n",
        "1   SOUTHERN       NONE  15867527.263853 -122.397824  37.782902  \n",
        "2   SOUTHERN       NONE  15867527.263853 -122.397824  37.782902  \n",
        "3  INGLESIDE       NONE  15867527.263853 -122.424797  37.710652  \n",
        "4    MISSION       NONE  15867527.263853 -122.438284  37.751938  "
       ]
      }
     ],
     "prompt_number": 11
    },
    {
     "cell_type": "code",
     "collapsed": false,
     "input": [],
     "language": "python",
     "metadata": {},
     "outputs": [],
     "prompt_number": 11
    },
    {
     "cell_type": "code",
     "collapsed": false,
     "input": [
      "agg_dict = {}\n",
      "for index, row in data_911.iterrows():\n",
      "    tupe = (row['TimeBin'], row['XBin'], row['YBin'])\n",
      "    if tupe not in agg_dict:\n",
      "        agg_dict[tupe] = []\n",
      "    agg_dict[tupe].append(row.to_dict())"
     ],
     "language": "python",
     "metadata": {},
     "outputs": [],
     "prompt_number": 12
    },
    {
     "cell_type": "code",
     "collapsed": false,
     "input": [
      "agg_dict2 = {}\n",
      "agg_dict2['911-reports'] = []\n",
      "agg_dict2['tuple'] = []\n",
      "for k in agg_dict:\n",
      "    agg_dict2['911-reports'].append(agg_dict[k])\n",
      "    agg_dict2['tuple'].append(k)"
     ],
     "language": "python",
     "metadata": {},
     "outputs": [],
     "prompt_number": 13
    },
    {
     "cell_type": "code",
     "collapsed": false,
     "input": [
      "(agg_dict2['911-reports'])[0:5]"
     ],
     "language": "python",
     "metadata": {},
     "outputs": [
      {
       "metadata": {},
       "output_type": "pyout",
       "prompt_number": 14,
       "text": [
        "[[{'Category': 'WARRANTS',\n",
        "   'Descript': 'ENROUTE TO OUTSIDE JURISDICTION',\n",
        "   'PdDistrict': 'PARK',\n",
        "   'Resolution': 'ARREST, BOOKED',\n",
        "   'TimeBin': 68448950.51830366,\n",
        "   'XBin': -122.45177022222221,\n",
        "   'YBin': 37.76225922222223},\n",
        "  {'Category': 'WARRANTS',\n",
        "   'Descript': 'ENROUTE TO OUTSIDE JURISDICTION',\n",
        "   'PdDistrict': 'PARK',\n",
        "   'Resolution': 'NONE',\n",
        "   'TimeBin': 68448950.51830366,\n",
        "   'XBin': -122.45177022222221,\n",
        "   'YBin': 37.76225922222223},\n",
        "  {'Category': 'FRAUD',\n",
        "   'Descript': 'CREDIT CARD, THEFT BY USE OF',\n",
        "   'PdDistrict': 'PARK',\n",
        "   'Resolution': 'NONE',\n",
        "   'TimeBin': 68448950.51830366,\n",
        "   'XBin': -122.45177022222221,\n",
        "   'YBin': 37.76225922222223},\n",
        "  {'Category': 'LARCENY/THEFT',\n",
        "   'Descript': 'GRAND THEFT OF PROPERTY',\n",
        "   'PdDistrict': 'PARK',\n",
        "   'Resolution': 'NONE',\n",
        "   'TimeBin': 68448950.51830366,\n",
        "   'XBin': -122.45177022222221,\n",
        "   'YBin': 37.76225922222223},\n",
        "  {'Category': 'ASSAULT',\n",
        "   'Descript': 'THREATENING PHONE CALL(S)',\n",
        "   'PdDistrict': 'PARK',\n",
        "   'Resolution': 'NONE',\n",
        "   'TimeBin': 68448950.51830366,\n",
        "   'XBin': -122.45177022222221,\n",
        "   'YBin': 37.76225922222223}],\n",
        " [{'Category': 'MISSING PERSON',\n",
        "   'Descript': 'MISSING JUVENILE',\n",
        "   'PdDistrict': 'TARAVAL',\n",
        "   'Resolution': 'NONE',\n",
        "   'TimeBin': 89821538.2614523,\n",
        "   'XBin': -122.47874311111113,\n",
        "   'YBin': 37.710652}],\n",
        " [{'Category': 'LARCENY/THEFT',\n",
        "   'Descript': 'PETTY THEFT FROM LOCKED AUTO',\n",
        "   'PdDistrict': 'TARAVAL',\n",
        "   'Resolution': 'NONE',\n",
        "   'TimeBin': 198060742.09701943,\n",
        "   'XBin': -122.50571599999999,\n",
        "   'YBin': 37.72097344444445},\n",
        "  {'Category': 'FRAUD',\n",
        "   'Descript': 'CREDIT CARD, THEFT BY USE OF',\n",
        "   'PdDistrict': 'TARAVAL',\n",
        "   'Resolution': 'NONE',\n",
        "   'TimeBin': 198060742.09701943,\n",
        "   'XBin': -122.50571599999999,\n",
        "   'YBin': 37.72097344444445}],\n",
        " [{'Category': 'DRUG/NARCOTIC',\n",
        "   'Descript': 'POSSESSION OF HALLUCINOGENIC',\n",
        "   'PdDistrict': 'MISSION',\n",
        "   'Resolution': 'ARREST, BOOKED',\n",
        "   'TimeBin': 166811428.19983998,\n",
        "   'XBin': -122.42479733333332,\n",
        "   'YBin': 37.76225922222223},\n",
        "  {'Category': 'OTHER OFFENSES',\n",
        "   'Descript': 'OPEN CONTAINER OF ALCOHOL IN VEHICLE',\n",
        "   'PdDistrict': 'MISSION',\n",
        "   'Resolution': 'ARREST, BOOKED',\n",
        "   'TimeBin': 166811428.19983998,\n",
        "   'XBin': -122.42479733333332,\n",
        "   'YBin': 37.76225922222223},\n",
        "  {'Category': 'NON-CRIMINAL',\n",
        "   'Descript': 'FOUND PROPERTY',\n",
        "   'PdDistrict': 'MISSION',\n",
        "   'Resolution': 'NONE',\n",
        "   'TimeBin': 166811428.19983998,\n",
        "   'XBin': -122.42479733333332,\n",
        "   'YBin': 37.76225922222223},\n",
        "  {'Category': 'LARCENY/THEFT',\n",
        "   'Descript': 'PETTY THEFT FROM LOCKED AUTO',\n",
        "   'PdDistrict': 'MISSION',\n",
        "   'Resolution': 'NONE',\n",
        "   'TimeBin': 166811428.19983998,\n",
        "   'XBin': -122.42479733333332,\n",
        "   'YBin': 37.76225922222223},\n",
        "  {'Category': 'NON-CRIMINAL',\n",
        "   'Descript': 'FOUND PROPERTY',\n",
        "   'PdDistrict': 'MISSION',\n",
        "   'Resolution': 'NONE',\n",
        "   'TimeBin': 166811428.19983998,\n",
        "   'XBin': -122.42479733333332,\n",
        "   'YBin': 37.76225922222223},\n",
        "  {'Category': 'OTHER OFFENSES',\n",
        "   'Descript': 'MISCELLANEOUS INVESTIGATION',\n",
        "   'PdDistrict': 'SOUTHERN',\n",
        "   'Resolution': 'NONE',\n",
        "   'TimeBin': 166811428.19983998,\n",
        "   'XBin': -122.42479733333332,\n",
        "   'YBin': 37.76225922222223},\n",
        "  {'Category': 'LARCENY/THEFT',\n",
        "   'Descript': 'GRAND THEFT FROM LOCKED AUTO',\n",
        "   'PdDistrict': 'SOUTHERN',\n",
        "   'Resolution': 'NONE',\n",
        "   'TimeBin': 166811428.19983998,\n",
        "   'XBin': -122.42479733333332,\n",
        "   'YBin': 37.76225922222223},\n",
        "  {'Category': 'LARCENY/THEFT',\n",
        "   'Descript': 'GRAND THEFT FROM UNLOCKED AUTO',\n",
        "   'PdDistrict': 'SOUTHERN',\n",
        "   'Resolution': 'NONE',\n",
        "   'TimeBin': 166811428.19983998,\n",
        "   'XBin': -122.42479733333332,\n",
        "   'YBin': 37.76225922222223}],\n",
        " [{'Category': 'LARCENY/THEFT',\n",
        "   'Descript': 'GRAND THEFT FROM LOCKED AUTO',\n",
        "   'PdDistrict': 'TARAVAL',\n",
        "   'Resolution': 'NONE',\n",
        "   'TimeBin': 125240125.90398079,\n",
        "   'XBin': -122.49222955555555,\n",
        "   'YBin': 37.710652}]]"
       ]
      }
     ],
     "prompt_number": 14
    },
    {
     "cell_type": "code",
     "collapsed": false,
     "input": [
      "def generate_feature_vector(reports_911):\n",
      "    # simple feature vector that is just the count of 911 reports associated with a particular tuple\n",
      "    feature_vector = len(reports_911)\n",
      "    return feature_vector"
     ],
     "language": "python",
     "metadata": {},
     "outputs": [],
     "prompt_number": 15
    },
    {
     "cell_type": "code",
     "collapsed": false,
     "input": [
      "agg_dict3 = {}\n",
      "agg_dict3['tuple'] = []\n",
      "agg_dict3['feature-911'] = []\n",
      "for key in agg_dict:\n",
      "    feature_vector = generate_feature_vector(agg_dict[key])\n",
      "    agg_dict3['feature-911'].append(feature_vector)\n",
      "    agg_dict3['tuple'].append(key)\n"
     ],
     "language": "python",
     "metadata": {},
     "outputs": [],
     "prompt_number": 16
    },
    {
     "cell_type": "code",
     "collapsed": false,
     "input": [
      "(agg_dict3['feature-911'])[0:5]"
     ],
     "language": "python",
     "metadata": {},
     "outputs": [
      {
       "metadata": {},
       "output_type": "pyout",
       "prompt_number": 17,
       "text": [
        "[5, 1, 2, 8, 1]"
       ]
      }
     ],
     "prompt_number": 17
    },
    {
     "cell_type": "code",
     "collapsed": false,
     "input": [
      "final_df = pd.DataFrame(agg_dict3)\n",
      "final_df.head(2)\n",
      "#final_df.to_csv(\"data_911_ready_to_join.csv\", index_label=False)"
     ],
     "language": "python",
     "metadata": {},
     "outputs": [
      {
       "html": [
        "<div style=\"max-height:1000px;max-width:1500px;overflow:auto;\">\n",
        "<table border=\"1\" class=\"dataframe\">\n",
        "  <thead>\n",
        "    <tr style=\"text-align: right;\">\n",
        "      <th></th>\n",
        "      <th>feature-911</th>\n",
        "      <th>tuple</th>\n",
        "    </tr>\n",
        "  </thead>\n",
        "  <tbody>\n",
        "    <tr>\n",
        "      <th>0</th>\n",
        "      <td> 5</td>\n",
        "      <td> (68448950.5183, -122.451770222, 37.7622592222)</td>\n",
        "    </tr>\n",
        "    <tr>\n",
        "      <th>1</th>\n",
        "      <td> 1</td>\n",
        "      <td>     (89821538.2615, -122.478743111, 37.710652)</td>\n",
        "    </tr>\n",
        "  </tbody>\n",
        "</table>\n",
        "</div>"
       ],
       "metadata": {},
       "output_type": "pyout",
       "prompt_number": 18,
       "text": [
        "   feature-911                                           tuple\n",
        "0            5  (68448950.5183, -122.451770222, 37.7622592222)\n",
        "1            1      (89821538.2615, -122.478743111, 37.710652)"
       ]
      }
     ],
     "prompt_number": 18
    },
    {
     "cell_type": "code",
     "collapsed": false,
     "input": [
      "len(final_df)"
     ],
     "language": "python",
     "metadata": {},
     "outputs": [
      {
       "metadata": {},
       "output_type": "pyout",
       "prompt_number": 19,
       "text": [
        "216286"
       ]
      }
     ],
     "prompt_number": 19
    },
    {
     "cell_type": "code",
     "collapsed": false,
     "input": [
      "final_df.head(5)"
     ],
     "language": "python",
     "metadata": {},
     "outputs": [
      {
       "html": [
        "<div style=\"max-height:1000px;max-width:1500px;overflow:auto;\">\n",
        "<table border=\"1\" class=\"dataframe\">\n",
        "  <thead>\n",
        "    <tr style=\"text-align: right;\">\n",
        "      <th></th>\n",
        "      <th>feature-911</th>\n",
        "      <th>tuple</th>\n",
        "    </tr>\n",
        "  </thead>\n",
        "  <tbody>\n",
        "    <tr>\n",
        "      <th>0</th>\n",
        "      <td> 5</td>\n",
        "      <td> (68448950.5183, -122.451770222, 37.7622592222)</td>\n",
        "    </tr>\n",
        "    <tr>\n",
        "      <th>1</th>\n",
        "      <td> 1</td>\n",
        "      <td>     (89821538.2615, -122.478743111, 37.710652)</td>\n",
        "    </tr>\n",
        "    <tr>\n",
        "      <th>2</th>\n",
        "      <td> 2</td>\n",
        "      <td>    (198060742.097, -122.505716, 37.7209734444)</td>\n",
        "    </tr>\n",
        "    <tr>\n",
        "      <th>3</th>\n",
        "      <td> 8</td>\n",
        "      <td>   (166811428.2, -122.424797333, 37.7622592222)</td>\n",
        "    </tr>\n",
        "    <tr>\n",
        "      <th>4</th>\n",
        "      <td> 1</td>\n",
        "      <td>     (125240125.904, -122.492229556, 37.710652)</td>\n",
        "    </tr>\n",
        "  </tbody>\n",
        "</table>\n",
        "</div>"
       ],
       "metadata": {},
       "output_type": "pyout",
       "prompt_number": 20,
       "text": [
        "   feature-911                                           tuple\n",
        "0            5  (68448950.5183, -122.451770222, 37.7622592222)\n",
        "1            1      (89821538.2615, -122.478743111, 37.710652)\n",
        "2            2     (198060742.097, -122.505716, 37.7209734444)\n",
        "3            8    (166811428.2, -122.424797333, 37.7622592222)\n",
        "4            1      (125240125.904, -122.492229556, 37.710652)"
       ]
      }
     ],
     "prompt_number": 20
    },
    {
     "cell_type": "code",
     "collapsed": false,
     "input": [
      "final_df.to_csv(\"data_911_ready_to_join.csv\", index_label=False)"
     ],
     "language": "python",
     "metadata": {},
     "outputs": [],
     "prompt_number": 21
    },
    {
     "cell_type": "code",
     "collapsed": false,
     "input": [
      "t0 = [x[0] for x in final_df['tuple']]\n",
      "t0s = set(t0)\n",
      "print len(t0s)\n",
      "\n",
      "t1 = [x[1] for x in final_df['tuple']]\n",
      "t1s = set(t1)\n",
      "print len(t1s)\n",
      "\n",
      "t2 = [x[2] for x in final_df['tuple']]\n",
      "t2s = set(t2)\n",
      "print len(t2s)"
     ],
     "language": "python",
     "metadata": {},
     "outputs": [
      {
       "output_type": "stream",
       "stream": "stdout",
       "text": [
        "4581\n",
        "10"
       ]
      },
      {
       "output_type": "stream",
       "stream": "stdout",
       "text": [
        "\n",
        "10"
       ]
      },
      {
       "output_type": "stream",
       "stream": "stdout",
       "text": [
        "\n"
       ]
      }
     ],
     "prompt_number": 22
    },
    {
     "cell_type": "code",
     "collapsed": false,
     "input": [
      "t2s"
     ],
     "language": "python",
     "metadata": {},
     "outputs": [
      {
       "metadata": {},
       "output_type": "pyout",
       "prompt_number": 25,
       "text": [
        "{37.710652,\n",
        " 37.72097344444445,\n",
        " 37.73129488888889,\n",
        " 37.74161633333333,\n",
        " 37.75193777777777,\n",
        " 37.76225922222223,\n",
        " 37.77258066666667,\n",
        " 37.78290211111111,\n",
        " 37.793223555555564,\n",
        " 37.803545}"
       ]
      }
     ],
     "prompt_number": 25
    },
    {
     "cell_type": "code",
     "collapsed": false,
     "input": [
      "data_311 = pd.read_csv('df_311_ready_to_join.csv', na_values=['-'])\n",
      "data_311 = data_311.where((pd.notnull(data_311)), None)\n",
      "data_311.head(15)"
     ],
     "language": "python",
     "metadata": {},
     "outputs": [
      {
       "html": [
        "<div style=\"max-height:1000px;max-width:1500px;overflow:auto;\">\n",
        "<table border=\"1\" class=\"dataframe\">\n",
        "  <thead>\n",
        "    <tr style=\"text-align: right;\">\n",
        "      <th></th>\n",
        "      <th>feature-311</th>\n",
        "      <th>tuple</th>\n",
        "    </tr>\n",
        "  </thead>\n",
        "  <tbody>\n",
        "    <tr>\n",
        "      <th>0 </th>\n",
        "      <td> [{'Category': 'Sign Repair', 'TimeBin': 627414...</td>\n",
        "      <td> (6274149.810962193, -122.42479733333332, 37.77...</td>\n",
        "    </tr>\n",
        "    <tr>\n",
        "      <th>1 </th>\n",
        "      <td> [{'Category': '311 External Request', 'TimeBin...</td>\n",
        "      <td> (68448950.51830366, -122.45177022222221, 37.76...</td>\n",
        "    </tr>\n",
        "    <tr>\n",
        "      <th>2 </th>\n",
        "      <td> [{'Category': 'Litter Receptacles', 'TimeBin':...</td>\n",
        "      <td> (180695514.55571115, -122.50571599999999, 37.7...</td>\n",
        "    </tr>\n",
        "    <tr>\n",
        "      <th>3 </th>\n",
        "      <td> [{'Category': 'Rec and Park Requests', 'TimeBi...</td>\n",
        "      <td> (198060742.09701943, -122.50571599999999, 37.7...</td>\n",
        "    </tr>\n",
        "    <tr>\n",
        "      <th>4 </th>\n",
        "      <td> [{'Category': 'General Requests', 'TimeBin': 1...</td>\n",
        "      <td> (166811428.19983998, -122.42479733333332, 37.7...</td>\n",
        "    </tr>\n",
        "    <tr>\n",
        "      <th>5 </th>\n",
        "      <td> [{'Category': 'General Requests', 'TimeBin': 1...</td>\n",
        "      <td> (125240125.90398079, -122.49222955555555, 37.7...</td>\n",
        "    </tr>\n",
        "    <tr>\n",
        "      <th>6 </th>\n",
        "      <td> [{'Category': 'Street and Sidewalk Cleaning', ...</td>\n",
        "      <td> (164827987.29185838, -122.41131088888888, 37.7...</td>\n",
        "    </tr>\n",
        "    <tr>\n",
        "      <th>7 </th>\n",
        "      <td> [{'Category': 'Street and Sidewalk Cleaning', ...</td>\n",
        "      <td> (101115007.92118424, -122.42479733333332, 37.7...</td>\n",
        "    </tr>\n",
        "    <tr>\n",
        "      <th>8 </th>\n",
        "      <td> [{'Category': 'Tree Maintenance', 'TimeBin': 8...</td>\n",
        "      <td> (80592466.28145629, -122.43828377777778, 37.78...</td>\n",
        "    </tr>\n",
        "    <tr>\n",
        "      <th>9 </th>\n",
        "      <td> [{'Category': 'General Requests', 'TimeBin': 1...</td>\n",
        "      <td> (168268650.0914183, -122.43828377777778, 37.77...</td>\n",
        "    </tr>\n",
        "    <tr>\n",
        "      <th>10</th>\n",
        "      <td> [{'Category': 'Sidewalk or Curb', 'TimeBin': 1...</td>\n",
        "      <td> (16110397.579115825, -122.43828377777778, 37.7...</td>\n",
        "    </tr>\n",
        "    <tr>\n",
        "      <th>11</th>\n",
        "      <td> [{'Category': 'Graffiti Public Property', 'Tim...</td>\n",
        "      <td> (194822471.22684535, -122.42479733333332, 37.7...</td>\n",
        "    </tr>\n",
        "    <tr>\n",
        "      <th>12</th>\n",
        "      <td> [{'Category': 'Damaged Property', 'TimeBin': 1...</td>\n",
        "      <td> (166163774.02580518, -122.41131088888888, 37.7...</td>\n",
        "    </tr>\n",
        "    <tr>\n",
        "      <th>13</th>\n",
        "      <td> [{'Category': 'Tree Maintenance', 'TimeBin': 1...</td>\n",
        "      <td> (135157330.44388878, -122.46525666666668, 37.7...</td>\n",
        "    </tr>\n",
        "    <tr>\n",
        "      <th>14</th>\n",
        "      <td> [{'Category': 'Damaged Property', 'TimeBin': 1...</td>\n",
        "      <td> (115444356.52170436, -122.39782444444445, 37.7...</td>\n",
        "    </tr>\n",
        "  </tbody>\n",
        "</table>\n",
        "</div>"
       ],
       "metadata": {},
       "output_type": "pyout",
       "prompt_number": 23,
       "text": [
        "                                          feature-311  \\\n",
        "0   [{'Category': 'Sign Repair', 'TimeBin': 627414...   \n",
        "1   [{'Category': '311 External Request', 'TimeBin...   \n",
        "2   [{'Category': 'Litter Receptacles', 'TimeBin':...   \n",
        "3   [{'Category': 'Rec and Park Requests', 'TimeBi...   \n",
        "4   [{'Category': 'General Requests', 'TimeBin': 1...   \n",
        "5   [{'Category': 'General Requests', 'TimeBin': 1...   \n",
        "6   [{'Category': 'Street and Sidewalk Cleaning', ...   \n",
        "7   [{'Category': 'Street and Sidewalk Cleaning', ...   \n",
        "8   [{'Category': 'Tree Maintenance', 'TimeBin': 8...   \n",
        "9   [{'Category': 'General Requests', 'TimeBin': 1...   \n",
        "10  [{'Category': 'Sidewalk or Curb', 'TimeBin': 1...   \n",
        "11  [{'Category': 'Graffiti Public Property', 'Tim...   \n",
        "12  [{'Category': 'Damaged Property', 'TimeBin': 1...   \n",
        "13  [{'Category': 'Tree Maintenance', 'TimeBin': 1...   \n",
        "14  [{'Category': 'Damaged Property', 'TimeBin': 1...   \n",
        "\n",
        "                                                tuple  \n",
        "0   (6274149.810962193, -122.42479733333332, 37.77...  \n",
        "1   (68448950.51830366, -122.45177022222221, 37.76...  \n",
        "2   (180695514.55571115, -122.50571599999999, 37.7...  \n",
        "3   (198060742.09701943, -122.50571599999999, 37.7...  \n",
        "4   (166811428.19983998, -122.42479733333332, 37.7...  \n",
        "5   (125240125.90398079, -122.49222955555555, 37.7...  \n",
        "6   (164827987.29185838, -122.41131088888888, 37.7...  \n",
        "7   (101115007.92118424, -122.42479733333332, 37.7...  \n",
        "8   (80592466.28145629, -122.43828377777778, 37.78...  \n",
        "9   (168268650.0914183, -122.43828377777778, 37.77...  \n",
        "10  (16110397.579115825, -122.43828377777778, 37.7...  \n",
        "11  (194822471.22684535, -122.42479733333332, 37.7...  \n",
        "12  (166163774.02580518, -122.41131088888888, 37.7...  \n",
        "13  (135157330.44388878, -122.46525666666668, 37.7...  \n",
        "14  (115444356.52170436, -122.39782444444445, 37.7...  "
       ]
      }
     ],
     "prompt_number": 23
    },
    {
     "cell_type": "code",
     "collapsed": false,
     "input": [],
     "language": "python",
     "metadata": {},
     "outputs": [],
     "prompt_number": 23
    }
   ],
   "metadata": {}
  }
 ]
}