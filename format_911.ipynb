{
 "metadata": {
  "name": "",
  "signature": "sha256:23de5e8ec172b387a086ba8b46385a21cbe2025cca3abfd72da5f251ab3152bf"
 },
 "nbformat": 3,
 "nbformat_minor": 0,
 "worksheets": [
  {
   "cells": [
    {
     "cell_type": "code",
     "collapsed": false,
     "input": [
      "DATA_PATH = \"data/data_911_with_dateTime.csv\" # Make this the /path/to/the/data\n",
      "import pandas as pd\n",
      "data_911 = pd.read_csv(DATA_PATH, na_values=['-'])\n",
      "data_911 = data_911.where((pd.notnull(data_911)), None)\n",
      "data_911.head()"
     ],
     "language": "python",
     "metadata": {},
     "outputs": [
      {
       "html": [
        "<div style=\"max-height:1000px;max-width:1500px;overflow:auto;\">\n",
        "<table border=\"1\" class=\"dataframe\">\n",
        "  <thead>\n",
        "    <tr style=\"text-align: right;\">\n",
        "      <th></th>\n",
        "      <th>Category</th>\n",
        "      <th>Descript</th>\n",
        "      <th>DayOfWeek</th>\n",
        "      <th>DateTime</th>\n",
        "      <th>PdDistrict</th>\n",
        "      <th>Resolution</th>\n",
        "      <th>Location</th>\n",
        "      <th>X</th>\n",
        "      <th>Y</th>\n",
        "      <th>TimeBin</th>\n",
        "    </tr>\n",
        "  </thead>\n",
        "  <tbody>\n",
        "    <tr>\n",
        "      <th>0</th>\n",
        "      <td>                ASSAULT</td>\n",
        "      <td>                                         BATTERY</td>\n",
        "      <td> Thursday</td>\n",
        "      <td> 2009-01-01 00:58:00</td>\n",
        "      <td>   CENTRAL</td>\n",
        "      <td> NONE</td>\n",
        "      <td>      200.0 Block of CLAY ST</td>\n",
        "      <td>-122.398584</td>\n",
        "      <td> 37.795269</td>\n",
        "      <td> 0</td>\n",
        "    </tr>\n",
        "    <tr>\n",
        "      <th>1</th>\n",
        "      <td> SEX OFFENSES, FORCIBLE</td>\n",
        "      <td>               ASSAULT TO RAPE WITH BODILY FORCE</td>\n",
        "      <td> Thursday</td>\n",
        "      <td> 2009-01-01 01:00:00</td>\n",
        "      <td>  SOUTHERN</td>\n",
        "      <td> NONE</td>\n",
        "      <td>    500.0 Block of HOWARD ST</td>\n",
        "      <td>-122.396540</td>\n",
        "      <td> 37.788093</td>\n",
        "      <td> 0</td>\n",
        "    </tr>\n",
        "    <tr>\n",
        "      <th>2</th>\n",
        "      <td>                ROBBERY</td>\n",
        "      <td>                       ROBBERY, ARMED WITH A GUN</td>\n",
        "      <td> Thursday</td>\n",
        "      <td> 2009-01-01 01:00:00</td>\n",
        "      <td>  SOUTHERN</td>\n",
        "      <td> NONE</td>\n",
        "      <td>    500.0 Block of HOWARD ST</td>\n",
        "      <td>-122.396540</td>\n",
        "      <td> 37.788093</td>\n",
        "      <td> 0</td>\n",
        "    </tr>\n",
        "    <tr>\n",
        "      <th>3</th>\n",
        "      <td>               BURGLARY</td>\n",
        "      <td> BURGLARY OF APARTMENT HOUSE, ATT FORCIBLE ENTRY</td>\n",
        "      <td> Thursday</td>\n",
        "      <td> 2009-01-01 01:00:00</td>\n",
        "      <td> INGLESIDE</td>\n",
        "      <td> NONE</td>\n",
        "      <td> 200.0 Block of BLYTHDALE AV</td>\n",
        "      <td>-122.421717</td>\n",
        "      <td> 37.711308</td>\n",
        "      <td> 0</td>\n",
        "    </tr>\n",
        "    <tr>\n",
        "      <th>4</th>\n",
        "      <td>          LARCENY/THEFT</td>\n",
        "      <td>                  GRAND THEFT FROM UNLOCKED AUTO</td>\n",
        "      <td> Thursday</td>\n",
        "      <td> 2009-01-01 01:00:00</td>\n",
        "      <td>   MISSION</td>\n",
        "      <td> NONE</td>\n",
        "      <td>     3700.0 Block of 21ST ST</td>\n",
        "      <td>-122.430888</td>\n",
        "      <td> 37.756204</td>\n",
        "      <td> 0</td>\n",
        "    </tr>\n",
        "  </tbody>\n",
        "</table>\n",
        "</div>"
       ],
       "metadata": {},
       "output_type": "pyout",
       "prompt_number": 2,
       "text": [
        "                 Category                                         Descript  \\\n",
        "0                 ASSAULT                                          BATTERY   \n",
        "1  SEX OFFENSES, FORCIBLE                ASSAULT TO RAPE WITH BODILY FORCE   \n",
        "2                 ROBBERY                        ROBBERY, ARMED WITH A GUN   \n",
        "3                BURGLARY  BURGLARY OF APARTMENT HOUSE, ATT FORCIBLE ENTRY   \n",
        "4           LARCENY/THEFT                   GRAND THEFT FROM UNLOCKED AUTO   \n",
        "\n",
        "  DayOfWeek             DateTime PdDistrict Resolution  \\\n",
        "0  Thursday  2009-01-01 00:58:00    CENTRAL       NONE   \n",
        "1  Thursday  2009-01-01 01:00:00   SOUTHERN       NONE   \n",
        "2  Thursday  2009-01-01 01:00:00   SOUTHERN       NONE   \n",
        "3  Thursday  2009-01-01 01:00:00  INGLESIDE       NONE   \n",
        "4  Thursday  2009-01-01 01:00:00    MISSION       NONE   \n",
        "\n",
        "                      Location           X          Y  TimeBin  \n",
        "0       200.0 Block of CLAY ST -122.398584  37.795269        0  \n",
        "1     500.0 Block of HOWARD ST -122.396540  37.788093        0  \n",
        "2     500.0 Block of HOWARD ST -122.396540  37.788093        0  \n",
        "3  200.0 Block of BLYTHDALE AV -122.421717  37.711308        0  \n",
        "4      3700.0 Block of 21ST ST -122.430888  37.756204        0  "
       ]
      }
     ],
     "prompt_number": 2
    },
    {
     "cell_type": "code",
     "collapsed": false,
     "input": [
      "import numpy as np"
     ],
     "language": "python",
     "metadata": {},
     "outputs": [],
     "prompt_number": 3
    },
    {
     "cell_type": "code",
     "collapsed": false,
     "input": [
      "#convert to datetime\n",
      "data_911['DateTime'] = pd.to_datetime(data_911['DateTime'])\n",
      "type(data_911.head()['DateTime'][0])"
     ],
     "language": "python",
     "metadata": {},
     "outputs": [
      {
       "metadata": {},
       "output_type": "pyout",
       "prompt_number": 4,
       "text": [
        "pandas.tslib.Timestamp"
       ]
      }
     ],
     "prompt_number": 4
    },
    {
     "cell_type": "code",
     "collapsed": false,
     "input": [
      "#just some code to test something\n",
      "\n",
      "mintime = data_911['DateTime'].min()\n",
      "maxtime = data_911['DateTime'].max()\n",
      "\n",
      "#np.linspace(0, (maxtime-mintime).total_seconds(), 100)"
     ],
     "language": "python",
     "metadata": {},
     "outputs": [],
     "prompt_number": 6
    },
    {
     "cell_type": "code",
     "collapsed": false,
     "input": [
      "data_path = DATA_PATH\n",
      "\n",
      "def get_loc_time_counts(csv_path, time_interval, location_interval, x_interval, y_interval, n_bins):\n",
      "    \"\"\"\n",
      "    Gets the counts for each category of time divided by pdDistrict and time.\n",
      "    \n",
      "    @params csv_path string to csv_file\n",
      "    @params time string granularity of time split\n",
      "        \"d\" : split by day/month/year\n",
      "        \"m\" : split by month/year\n",
      "        \"y\" : split by year\n",
      "    @params location_interval float size of each inteval in location grid\n",
      "    @params min_x, min_y x,y coordinate of where to start grid\n",
      "        Note: this argument is required because the max/min of 311 may not \n",
      "            be the same as 911\n",
      "    @return pd.Dataframe [datetime, location, category, count]\n",
      "    \"\"\"\n",
      "    data = pd.read_csv(csv_path, low_memory=False)\n",
      "    \n",
      "    # map each point to a location interval\n",
      "    x_min = x_interval[0]\n",
      "    x_max = x_interval[1]\n",
      "    x_bins = create_bins(min_x, max_x, n_bins)\n",
      "    \n",
      "    y_min = y_interval[0]\n",
      "    y_max = y_interval[1]\n",
      "    y_bins = create_bins(min_y, max_y, n_bins)\n",
      "    \n",
      "    xy_bins_col = data.apply(lambda row: get_xy(row['Point']))\n",
      "    \n",
      "    \n",
      "    # map each point to a datetime interval\n",
      "    \n",
      "    \n",
      "    for district_name, district_data in data.groupby(\"PdDistrict\"):\n",
      "        \n",
      "        for date_time, date_time_data in district_data.groupby(\"DateTime\"):\n",
      "            crime_counts = date_time_data.groupby(\"Category\").size()\n",
      "\n",
      "            \n",
      "def get_xy(point):\n",
      "    \"\"\"\n",
      "    Gets the x_point from an input string point.\n",
      "    \n",
      "    @params point string '(x,y)' coordinate \n",
      "    @return (x,y) float\n",
      "    \"\"\" \n",
      "    x_str, y_str = point.split(',')\n",
      "    return float(x_str[1:]), float(y_str[:-1])\n",
      "\n",
      "\n",
      "def create_bins(min_pt, max_pt, n):\n",
      "    \"\"\"\n",
      "    Creates n equally spaced bins between min_pt and max_pt\n",
      "    \n",
      "    @params min_pt float min value\n",
      "    @params max_pt float max value\n",
      "    @params n number of bins to create\n",
      "    @return np.array bin values\n",
      "    \"\"\"\n",
      "    return np.linspace(min_pt, max_pt, n)\n",
      "\n",
      "import bisect\n",
      "def get_bin(bins, val):\n",
      "    \"\"\"\n",
      "    Determines which bin the input val falls into. Bins are represented \n",
      "    by an increasing np.array. Val is assigned to the highest bin whose \n",
      "    value is less than val. (e.g. for bins [0.0, 0.5, 1.0], 0.25 would \n",
      "    be assigned to bin 0.0, 0.75 would be assigned to 0.5)\n",
      "    \n",
      "    @params bins np.array of increasing values\n",
      "    @params val float to bin\n",
      "    @return bin that val belongs to\n",
      "    \"\"\"\n",
      "    index = bisect.bisect_right(bins, val)-1 #bisect_left returns 2 with [0.0, 0.5, 1.0] and 0.75 as input\n",
      "    return bins[index]\n"
     ],
     "language": "python",
     "metadata": {},
     "outputs": [],
     "prompt_number": 5
    },
    {
     "cell_type": "code",
     "collapsed": false,
     "input": [
      "#testing something on a mini data set\n",
      "minidata = data_911.head()\n",
      "#minidata\n",
      "#data_911"
     ],
     "language": "python",
     "metadata": {},
     "outputs": [],
     "prompt_number": 8
    },
    {
     "cell_type": "code",
     "collapsed": false,
     "input": [
      "mintime = pd.to_datetime\n",
      "maxtime = \n",
      "print 'Maxtime:' + str(maxtime)\n",
      "print \"Mintime\" + str(mintime)"
     ],
     "language": "python",
     "metadata": {},
     "outputs": [
      {
       "output_type": "stream",
       "stream": "stdout",
       "text": [
        "Maxtime:2014-11-16 22:00:00\n",
        "Mintime2009-01-01 00:01:00\n"
       ]
      }
     ],
     "prompt_number": 9
    },
    {
     "cell_type": "code",
     "collapsed": false,
     "input": [
      "data_911"
     ],
     "language": "python",
     "metadata": {},
     "outputs": []
    },
    {
     "cell_type": "code",
     "collapsed": false,
     "input": [
      "bins"
     ],
     "language": "python",
     "metadata": {},
     "outputs": [
      {
       "metadata": {},
       "output_type": "pyout",
       "prompt_number": 7,
       "text": [
        "array([  0.00000000e+00,   4.04783859e+04,   8.09567718e+04, ...,\n",
        "         2.02270494e+08,   2.02310973e+08,   2.02351451e+08])"
       ]
      }
     ],
     "prompt_number": 7
    },
    {
     "cell_type": "code",
     "collapsed": false,
     "input": [
      "#make time bin for 911 dataset\n",
      "\n",
      "mintime = pd.to_datetime('2008-07-01 00:13:00')\n",
      "maxtime = pd.to_datetime('2014-11-29 00:57:11')\n",
      "print maxtime-mintime\n",
      "#subtracting 2 datetimes creates a tdelta object\n",
      "bins = create_bins(0, (maxtime-mintime).total_seconds(), 5000)\n",
      "\n",
      "data_911['TimeBin'] = data_911.apply(lambda row: get_bin(bins, (row['DateTime']-mintime).total_seconds()), axis = 1)\n",
      "\n",
      "data_911.head()"
     ],
     "language": "python",
     "metadata": {},
     "outputs": [
      {
       "output_type": "stream",
       "stream": "stdout",
       "text": [
        "2342 days, 0:44:11\n"
       ]
      },
      {
       "html": [
        "<div style=\"max-height:1000px;max-width:1500px;overflow:auto;\">\n",
        "<table border=\"1\" class=\"dataframe\">\n",
        "  <thead>\n",
        "    <tr style=\"text-align: right;\">\n",
        "      <th></th>\n",
        "      <th>Category</th>\n",
        "      <th>Descript</th>\n",
        "      <th>DayOfWeek</th>\n",
        "      <th>DateTime</th>\n",
        "      <th>PdDistrict</th>\n",
        "      <th>Resolution</th>\n",
        "      <th>Location</th>\n",
        "      <th>X</th>\n",
        "      <th>Y</th>\n",
        "      <th>TimeBin</th>\n",
        "    </tr>\n",
        "  </thead>\n",
        "  <tbody>\n",
        "    <tr>\n",
        "      <th>0</th>\n",
        "      <td>                ASSAULT</td>\n",
        "      <td>                                         BATTERY</td>\n",
        "      <td> Thursday</td>\n",
        "      <td>2009-01-01 00:58:00</td>\n",
        "      <td>   CENTRAL</td>\n",
        "      <td> NONE</td>\n",
        "      <td>      200.0 Block of CLAY ST</td>\n",
        "      <td>-122.398584</td>\n",
        "      <td> 37.795269</td>\n",
        "      <td> 15867527.263853</td>\n",
        "    </tr>\n",
        "    <tr>\n",
        "      <th>1</th>\n",
        "      <td> SEX OFFENSES, FORCIBLE</td>\n",
        "      <td>               ASSAULT TO RAPE WITH BODILY FORCE</td>\n",
        "      <td> Thursday</td>\n",
        "      <td>2009-01-01 01:00:00</td>\n",
        "      <td>  SOUTHERN</td>\n",
        "      <td> NONE</td>\n",
        "      <td>    500.0 Block of HOWARD ST</td>\n",
        "      <td>-122.396540</td>\n",
        "      <td> 37.788093</td>\n",
        "      <td> 15867527.263853</td>\n",
        "    </tr>\n",
        "    <tr>\n",
        "      <th>2</th>\n",
        "      <td>                ROBBERY</td>\n",
        "      <td>                       ROBBERY, ARMED WITH A GUN</td>\n",
        "      <td> Thursday</td>\n",
        "      <td>2009-01-01 01:00:00</td>\n",
        "      <td>  SOUTHERN</td>\n",
        "      <td> NONE</td>\n",
        "      <td>    500.0 Block of HOWARD ST</td>\n",
        "      <td>-122.396540</td>\n",
        "      <td> 37.788093</td>\n",
        "      <td> 15867527.263853</td>\n",
        "    </tr>\n",
        "    <tr>\n",
        "      <th>3</th>\n",
        "      <td>               BURGLARY</td>\n",
        "      <td> BURGLARY OF APARTMENT HOUSE, ATT FORCIBLE ENTRY</td>\n",
        "      <td> Thursday</td>\n",
        "      <td>2009-01-01 01:00:00</td>\n",
        "      <td> INGLESIDE</td>\n",
        "      <td> NONE</td>\n",
        "      <td> 200.0 Block of BLYTHDALE AV</td>\n",
        "      <td>-122.421717</td>\n",
        "      <td> 37.711308</td>\n",
        "      <td> 15867527.263853</td>\n",
        "    </tr>\n",
        "    <tr>\n",
        "      <th>4</th>\n",
        "      <td>          LARCENY/THEFT</td>\n",
        "      <td>                  GRAND THEFT FROM UNLOCKED AUTO</td>\n",
        "      <td> Thursday</td>\n",
        "      <td>2009-01-01 01:00:00</td>\n",
        "      <td>   MISSION</td>\n",
        "      <td> NONE</td>\n",
        "      <td>     3700.0 Block of 21ST ST</td>\n",
        "      <td>-122.430888</td>\n",
        "      <td> 37.756204</td>\n",
        "      <td> 15867527.263853</td>\n",
        "    </tr>\n",
        "  </tbody>\n",
        "</table>\n",
        "</div>"
       ],
       "metadata": {},
       "output_type": "pyout",
       "prompt_number": 6,
       "text": [
        "                 Category                                         Descript  \\\n",
        "0                 ASSAULT                                          BATTERY   \n",
        "1  SEX OFFENSES, FORCIBLE                ASSAULT TO RAPE WITH BODILY FORCE   \n",
        "2                 ROBBERY                        ROBBERY, ARMED WITH A GUN   \n",
        "3                BURGLARY  BURGLARY OF APARTMENT HOUSE, ATT FORCIBLE ENTRY   \n",
        "4           LARCENY/THEFT                   GRAND THEFT FROM UNLOCKED AUTO   \n",
        "\n",
        "  DayOfWeek            DateTime PdDistrict Resolution  \\\n",
        "0  Thursday 2009-01-01 00:58:00    CENTRAL       NONE   \n",
        "1  Thursday 2009-01-01 01:00:00   SOUTHERN       NONE   \n",
        "2  Thursday 2009-01-01 01:00:00   SOUTHERN       NONE   \n",
        "3  Thursday 2009-01-01 01:00:00  INGLESIDE       NONE   \n",
        "4  Thursday 2009-01-01 01:00:00    MISSION       NONE   \n",
        "\n",
        "                      Location           X          Y          TimeBin  \n",
        "0       200.0 Block of CLAY ST -122.398584  37.795269  15867527.263853  \n",
        "1     500.0 Block of HOWARD ST -122.396540  37.788093  15867527.263853  \n",
        "2     500.0 Block of HOWARD ST -122.396540  37.788093  15867527.263853  \n",
        "3  200.0 Block of BLYTHDALE AV -122.421717  37.711308  15867527.263853  \n",
        "4      3700.0 Block of 21ST ST -122.430888  37.756204  15867527.263853  "
       ]
      }
     ],
     "prompt_number": 6
    },
    {
     "cell_type": "code",
     "collapsed": false,
     "input": [
      "data_911.head()"
     ],
     "language": "python",
     "metadata": {},
     "outputs": [
      {
       "html": [
        "<div style=\"max-height:1000px;max-width:1500px;overflow:auto;\">\n",
        "<table border=\"1\" class=\"dataframe\">\n",
        "  <thead>\n",
        "    <tr style=\"text-align: right;\">\n",
        "      <th></th>\n",
        "      <th>Category</th>\n",
        "      <th>Descript</th>\n",
        "      <th>DayOfWeek</th>\n",
        "      <th>DateTime</th>\n",
        "      <th>PdDistrict</th>\n",
        "      <th>Resolution</th>\n",
        "      <th>Location</th>\n",
        "      <th>X</th>\n",
        "      <th>Y</th>\n",
        "      <th>TimeBin</th>\n",
        "    </tr>\n",
        "  </thead>\n",
        "  <tbody>\n",
        "    <tr>\n",
        "      <th>0</th>\n",
        "      <td>                ASSAULT</td>\n",
        "      <td>                                         BATTERY</td>\n",
        "      <td> Thursday</td>\n",
        "      <td>2009-01-01 00:58:00</td>\n",
        "      <td>   CENTRAL</td>\n",
        "      <td> NONE</td>\n",
        "      <td>      200.0 Block of CLAY ST</td>\n",
        "      <td>-122.398584</td>\n",
        "      <td> 37.795269</td>\n",
        "      <td> 15867527.263853</td>\n",
        "    </tr>\n",
        "    <tr>\n",
        "      <th>1</th>\n",
        "      <td> SEX OFFENSES, FORCIBLE</td>\n",
        "      <td>               ASSAULT TO RAPE WITH BODILY FORCE</td>\n",
        "      <td> Thursday</td>\n",
        "      <td>2009-01-01 01:00:00</td>\n",
        "      <td>  SOUTHERN</td>\n",
        "      <td> NONE</td>\n",
        "      <td>    500.0 Block of HOWARD ST</td>\n",
        "      <td>-122.396540</td>\n",
        "      <td> 37.788093</td>\n",
        "      <td> 15867527.263853</td>\n",
        "    </tr>\n",
        "    <tr>\n",
        "      <th>2</th>\n",
        "      <td>                ROBBERY</td>\n",
        "      <td>                       ROBBERY, ARMED WITH A GUN</td>\n",
        "      <td> Thursday</td>\n",
        "      <td>2009-01-01 01:00:00</td>\n",
        "      <td>  SOUTHERN</td>\n",
        "      <td> NONE</td>\n",
        "      <td>    500.0 Block of HOWARD ST</td>\n",
        "      <td>-122.396540</td>\n",
        "      <td> 37.788093</td>\n",
        "      <td> 15867527.263853</td>\n",
        "    </tr>\n",
        "    <tr>\n",
        "      <th>3</th>\n",
        "      <td>               BURGLARY</td>\n",
        "      <td> BURGLARY OF APARTMENT HOUSE, ATT FORCIBLE ENTRY</td>\n",
        "      <td> Thursday</td>\n",
        "      <td>2009-01-01 01:00:00</td>\n",
        "      <td> INGLESIDE</td>\n",
        "      <td> NONE</td>\n",
        "      <td> 200.0 Block of BLYTHDALE AV</td>\n",
        "      <td>-122.421717</td>\n",
        "      <td> 37.711308</td>\n",
        "      <td> 15867527.263853</td>\n",
        "    </tr>\n",
        "    <tr>\n",
        "      <th>4</th>\n",
        "      <td>          LARCENY/THEFT</td>\n",
        "      <td>                  GRAND THEFT FROM UNLOCKED AUTO</td>\n",
        "      <td> Thursday</td>\n",
        "      <td>2009-01-01 01:00:00</td>\n",
        "      <td>   MISSION</td>\n",
        "      <td> NONE</td>\n",
        "      <td>     3700.0 Block of 21ST ST</td>\n",
        "      <td>-122.430888</td>\n",
        "      <td> 37.756204</td>\n",
        "      <td> 15867527.263853</td>\n",
        "    </tr>\n",
        "  </tbody>\n",
        "</table>\n",
        "</div>"
       ],
       "metadata": {},
       "output_type": "pyout",
       "prompt_number": 18,
       "text": [
        "                 Category                                         Descript  \\\n",
        "0                 ASSAULT                                          BATTERY   \n",
        "1  SEX OFFENSES, FORCIBLE                ASSAULT TO RAPE WITH BODILY FORCE   \n",
        "2                 ROBBERY                        ROBBERY, ARMED WITH A GUN   \n",
        "3                BURGLARY  BURGLARY OF APARTMENT HOUSE, ATT FORCIBLE ENTRY   \n",
        "4           LARCENY/THEFT                   GRAND THEFT FROM UNLOCKED AUTO   \n",
        "\n",
        "  DayOfWeek            DateTime PdDistrict Resolution  \\\n",
        "0  Thursday 2009-01-01 00:58:00    CENTRAL       NONE   \n",
        "1  Thursday 2009-01-01 01:00:00   SOUTHERN       NONE   \n",
        "2  Thursday 2009-01-01 01:00:00   SOUTHERN       NONE   \n",
        "3  Thursday 2009-01-01 01:00:00  INGLESIDE       NONE   \n",
        "4  Thursday 2009-01-01 01:00:00    MISSION       NONE   \n",
        "\n",
        "                      Location           X          Y          TimeBin  \n",
        "0       200.0 Block of CLAY ST -122.398584  37.795269  15867527.263853  \n",
        "1     500.0 Block of HOWARD ST -122.396540  37.788093  15867527.263853  \n",
        "2     500.0 Block of HOWARD ST -122.396540  37.788093  15867527.263853  \n",
        "3  200.0 Block of BLYTHDALE AV -122.421717  37.711308  15867527.263853  \n",
        "4      3700.0 Block of 21ST ST -122.430888  37.756204  15867527.263853  "
       ]
      }
     ],
     "prompt_number": 18
    },
    {
     "cell_type": "code",
     "collapsed": false,
     "input": [],
     "language": "python",
     "metadata": {},
     "outputs": []
    },
    {
     "cell_type": "code",
     "collapsed": false,
     "input": [
      "max_x_loc = minidata['X'].max()\n",
      "min_x_loc = minidata['X'].min()\n",
      "print \"min X location: %f\" % min_x_loc\n",
      "print \"max X location: %f\" % max_x_loc\n",
      "\n",
      "max_y_loc = minidata['Y'].max()\n",
      "min_y_loc = minidata['Y'].min()\n",
      "print \"min Y location: %f\" % min_y_loc\n",
      "print \"max Y location: %f\" % max_y_loc\n",
      "\n",
      "\n",
      "min y location: 37.710652\n",
      "max y location: 37.803545\n",
      "min x location: -122.505716\n",
      "max x location: -122.384338"
     ],
     "language": "python",
     "metadata": {},
     "outputs": []
    },
    {
     "cell_type": "code",
     "collapsed": false,
     "input": [
      "max_y_loc = 37.803545\n",
      "min_y_loc = 37.710652\n",
      "print \"min y location: %f\" % min_y_loc\n",
      "print \"max y location: %f\" % max_y_loc\n",
      "\n",
      "max_x_loc = -122.384338\n",
      "min_x_loc = -122.505716\n",
      "print \"min x location: %f\" % min_x_loc\n",
      "print \"max x location: %f\" % max_x_loc"
     ],
     "language": "python",
     "metadata": {},
     "outputs": [
      {
       "output_type": "stream",
       "stream": "stdout",
       "text": [
        "min y location: 37.710652\n",
        "max y location: 37.803545\n",
        "min x location: -122.505716\n",
        "max x location: -122.384338\n"
       ]
      }
     ],
     "prompt_number": 8
    },
    {
     "cell_type": "code",
     "collapsed": false,
     "input": [
      "xbins = create_bins(min_x_loc, max_x_loc, 10)\n",
      "ybins = create_bins(min_y_loc, max_y_loc, 10)\n",
      "\n",
      "data_911['XBin'] = data_911.apply(lambda row: get_bin(xbins, row['X']), axis = 1)\n",
      "data_911['YBin'] = data_911.apply(lambda row: get_bin(ybins, row['Y']), axis = 1)\n",
      "data_911 = data_911[['Category', 'Descript', 'PdDistrict', 'Resolution', 'TimeBin', 'XBin', 'YBin']]"
     ],
     "language": "python",
     "metadata": {},
     "outputs": [],
     "prompt_number": 9
    },
    {
     "cell_type": "code",
     "collapsed": false,
     "input": [
      "xbins"
     ],
     "language": "python",
     "metadata": {},
     "outputs": [
      {
       "metadata": {},
       "output_type": "pyout",
       "prompt_number": 10,
       "text": [
        "array([-122.505716  , -122.49222956, -122.47874311, -122.46525667,\n",
        "       -122.45177022, -122.43828378, -122.42479733, -122.41131089,\n",
        "       -122.39782444, -122.384338  ])"
       ]
      }
     ],
     "prompt_number": 10
    },
    {
     "cell_type": "code",
     "collapsed": false,
     "input": [
      "ybins"
     ],
     "language": "python",
     "metadata": {},
     "outputs": [
      {
       "metadata": {},
       "output_type": "pyout",
       "prompt_number": 11,
       "text": [
        "array([ 37.710652  ,  37.72097344,  37.73129489,  37.74161633,\n",
        "        37.75193778,  37.76225922,  37.77258067,  37.78290211,\n",
        "        37.79322356,  37.803545  ])"
       ]
      }
     ],
     "prompt_number": 11
    },
    {
     "cell_type": "code",
     "collapsed": false,
     "input": [
      "#store into csv as checkpoint\n",
      "\n",
      "data_911.to_csv('intermediate_911.csv', index_label=False)"
     ],
     "language": "python",
     "metadata": {},
     "outputs": []
    },
    {
     "cell_type": "code",
     "collapsed": false,
     "input": [
      "#DATA_PATH = \"/home/datascience/project/intermediate_911.csv\" # Make this the /path/to/the/data\n",
      "\n",
      "DATA_PATH = \"/home/casual1water/cs194-16-data_manatees/intermediate_911.csv\" # path of amazon machine\n",
      "\n",
      "import pandas as pd\n",
      "\n",
      "data_911 = pd.read_csv(DATA_PATH, na_values=['-'])\n",
      "data_911 = data_911.where((pd.notnull(data_911)), None)\n",
      "data_911.head()"
     ],
     "language": "python",
     "metadata": {},
     "outputs": []
    },
    {
     "cell_type": "code",
     "collapsed": false,
     "input": [
      "agg_dict = {}\n",
      "for index, row in data_911.iterrows():\n",
      "    tupe = (row['TimeBin'], row['XBin'], row['YBin'])\n",
      "    if tupe not in agg_dict:\n",
      "        agg_dict[tupe] = []\n",
      "    agg_dict[tupe].append(row.to_dict())\n",
      "\n"
     ],
     "language": "python",
     "metadata": {},
     "outputs": [],
     "prompt_number": 9
    },
    {
     "cell_type": "code",
     "collapsed": false,
     "input": [
      "agg_dict2 = {}\n",
      "agg_dict2['911-reports'] = []\n",
      "agg_dict2['tuple'] = []\n",
      "for k in agg_dict:\n",
      "    agg_dict2['911-reports'].append(agg_dict[k])\n",
      "    agg_dict2['tuple'].append(k)"
     ],
     "language": "python",
     "metadata": {},
     "outputs": [],
     "prompt_number": 22
    },
    {
     "cell_type": "code",
     "collapsed": false,
     "input": [
      "df_mini = pd.DataFrame(agg_dict_mini2)\n",
      "df_mini.head(1)['911-reports']\n",
      "print (df_mini['911-reports'][0][0])"
     ],
     "language": "python",
     "metadata": {},
     "outputs": []
    },
    {
     "cell_type": "code",
     "collapsed": false,
     "input": [
      "def generate_feature_vector(reports_911):\n",
      "    # simple feature vector that is just the count of 911 reports associated with a particular tuple\n",
      "    feature_vector = len(reports_911)\n",
      "    return feature_vector"
     ],
     "language": "python",
     "metadata": {},
     "outputs": [],
     "prompt_number": 10
    },
    {
     "cell_type": "code",
     "collapsed": false,
     "input": [
      "agg_dict3 = {}\n",
      "agg_dict3['tuple'] = []\n",
      "agg_dict3['feature-911'] = []\n",
      "for key in agg_dict:\n",
      "    feature_vector = generate_feature_vector(agg_dict[key])\n",
      "    agg_dict3['feature-911'].append(feature_vector)\n",
      "    agg_dict3['tuple'].append(key)\n"
     ],
     "language": "python",
     "metadata": {},
     "outputs": [],
     "prompt_number": 12
    },
    {
     "cell_type": "code",
     "collapsed": false,
     "input": [
      "final_df = pd.DataFrame(agg_dict3)\n",
      "#final_df.to_csv(\"data_911_ready_to_join.csv\", index_label=False)"
     ],
     "language": "python",
     "metadata": {},
     "outputs": [],
     "prompt_number": 13
    },
    {
     "cell_type": "code",
     "collapsed": false,
     "input": [
      "len(final_df)"
     ],
     "language": "python",
     "metadata": {},
     "outputs": [
      {
       "metadata": {},
       "output_type": "pyout",
       "prompt_number": 16,
       "text": [
        "216286"
       ]
      }
     ],
     "prompt_number": 16
    },
    {
     "cell_type": "code",
     "collapsed": false,
     "input": [
      "final_df.head(5)"
     ],
     "language": "python",
     "metadata": {},
     "outputs": [
      {
       "html": [
        "<div style=\"max-height:1000px;max-width:1500px;overflow:auto;\">\n",
        "<table border=\"1\" class=\"dataframe\">\n",
        "  <thead>\n",
        "    <tr style=\"text-align: right;\">\n",
        "      <th></th>\n",
        "      <th>feature-911</th>\n",
        "      <th>tuple</th>\n",
        "    </tr>\n",
        "  </thead>\n",
        "  <tbody>\n",
        "    <tr>\n",
        "      <th>0</th>\n",
        "      <td> 1</td>\n",
        "      <td>     (197575001.466, -122.438283778, 37.803545)</td>\n",
        "    </tr>\n",
        "    <tr>\n",
        "      <th>1</th>\n",
        "      <td> 1</td>\n",
        "      <td> (157056137.203, -122.492229556, 37.7416163333)</td>\n",
        "    </tr>\n",
        "    <tr>\n",
        "      <th>2</th>\n",
        "      <td> 2</td>\n",
        "      <td> (157987140.079, -122.397824444, 37.7932235556)</td>\n",
        "    </tr>\n",
        "    <tr>\n",
        "      <th>3</th>\n",
        "      <td> 2</td>\n",
        "      <td> (183407566.409, -122.492229556, 37.7209734444)</td>\n",
        "    </tr>\n",
        "    <tr>\n",
        "      <th>4</th>\n",
        "      <td> 1</td>\n",
        "      <td> (143617313.092, -122.465256667, 37.7209734444)</td>\n",
        "    </tr>\n",
        "  </tbody>\n",
        "</table>\n",
        "</div>"
       ],
       "metadata": {},
       "output_type": "pyout",
       "prompt_number": 18,
       "text": [
        "   feature-911                                           tuple\n",
        "0            1      (197575001.466, -122.438283778, 37.803545)\n",
        "1            1  (157056137.203, -122.492229556, 37.7416163333)\n",
        "2            2  (157987140.079, -122.397824444, 37.7932235556)\n",
        "3            2  (183407566.409, -122.492229556, 37.7209734444)\n",
        "4            1  (143617313.092, -122.465256667, 37.7209734444)"
       ]
      }
     ],
     "prompt_number": 18
    },
    {
     "cell_type": "code",
     "collapsed": false,
     "input": [
      "final_df.to_csv(\"data_911_ready_to_join.csv\", index_label=False)"
     ],
     "language": "python",
     "metadata": {},
     "outputs": [],
     "prompt_number": 19
    },
    {
     "cell_type": "code",
     "collapsed": false,
     "input": [],
     "language": "python",
     "metadata": {},
     "outputs": []
    }
   ],
   "metadata": {}
  }
 ]
}