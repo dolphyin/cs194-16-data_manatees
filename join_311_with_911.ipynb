{
 "metadata": {
  "name": "",
  "signature": "sha256:7640fc2c2ea591a9b8ae463b205a790abbc0d170864c71e64db9ff17fe5fcf5c"
 },
 "nbformat": 3,
 "nbformat_minor": 0,
 "worksheets": [
  {
   "cells": [
    {
     "cell_type": "code",
     "collapsed": false,
     "input": [
      "import pandas as pd\n",
      "\n",
      "data_311 = pd.read_csv('df_311_ready_to_join.csv', na_values=['-'])\n",
      "data_311 = data_311.where((pd.notnull(data_311)), None)\n",
      "data_311['311-reports'] = data_311['reports']\n",
      "data_311= data_311.drop('reports', 1)\n",
      "data_311.head()\n"
     ],
     "language": "python",
     "metadata": {},
     "outputs": [
      {
       "html": [
        "<div style=\"max-height:1000px;max-width:1500px;overflow:auto;\">\n",
        "<table border=\"1\" class=\"dataframe\">\n",
        "  <thead>\n",
        "    <tr style=\"text-align: right;\">\n",
        "      <th></th>\n",
        "      <th>tuple</th>\n",
        "      <th>311-reports</th>\n",
        "    </tr>\n",
        "  </thead>\n",
        "  <tbody>\n",
        "    <tr>\n",
        "      <th>0</th>\n",
        "      <td> (150700179.72372374, -122.514436, 37.681551555...</td>\n",
        "      <td> [{'Category': 'Street and Sidewalk Cleaning', ...</td>\n",
        "    </tr>\n",
        "    <tr>\n",
        "      <th>1</th>\n",
        "      <td> (75350089.86186187, -122.514436, 37.6815515555...</td>\n",
        "      <td> [{'Category': 'Graffiti Private Property', 'Ti...</td>\n",
        "    </tr>\n",
        "    <tr>\n",
        "      <th>2</th>\n",
        "      <td> (48207853.1911912, -122.514436, 37.73870911111...</td>\n",
        "      <td> [{'Category': 'Sidewalk or Curb', 'TimeBin': 4...</td>\n",
        "    </tr>\n",
        "    <tr>\n",
        "      <th>3</th>\n",
        "      <td> (51853825.281281285, -122.514436, 37.795866666...</td>\n",
        "      <td> [{'Category': 'Graffiti Private Property', 'Ti...</td>\n",
        "    </tr>\n",
        "    <tr>\n",
        "      <th>4</th>\n",
        "      <td> (45777205.131131135, -122.514436, 37.738709111...</td>\n",
        "      <td> [{'Category': 'Street and Sidewalk Cleaning', ...</td>\n",
        "    </tr>\n",
        "  </tbody>\n",
        "</table>\n",
        "</div>"
       ],
       "metadata": {},
       "output_type": "pyout",
       "prompt_number": 2,
       "text": [
        "                                               tuple  \\\n",
        "0  (150700179.72372374, -122.514436, 37.681551555...   \n",
        "1  (75350089.86186187, -122.514436, 37.6815515555...   \n",
        "2  (48207853.1911912, -122.514436, 37.73870911111...   \n",
        "3  (51853825.281281285, -122.514436, 37.795866666...   \n",
        "4  (45777205.131131135, -122.514436, 37.738709111...   \n",
        "\n",
        "                                         311-reports  \n",
        "0  [{'Category': 'Street and Sidewalk Cleaning', ...  \n",
        "1  [{'Category': 'Graffiti Private Property', 'Ti...  \n",
        "2  [{'Category': 'Sidewalk or Curb', 'TimeBin': 4...  \n",
        "3  [{'Category': 'Graffiti Private Property', 'Ti...  \n",
        "4  [{'Category': 'Street and Sidewalk Cleaning', ...  "
       ]
      }
     ],
     "prompt_number": 2
    },
    {
     "cell_type": "code",
     "collapsed": false,
     "input": [
      "data_911 = pd.read_csv('data_911_ready_to_join.csv', na_values=['-'])\n",
      "data_911 = data_911.where((pd.notnull(data_911)), None)\n",
      "data_911.head()"
     ],
     "language": "python",
     "metadata": {},
     "outputs": [
      {
       "html": [
        "<div style=\"max-height:1000px;max-width:1500px;overflow:auto;\">\n",
        "<table border=\"1\" class=\"dataframe\">\n",
        "  <thead>\n",
        "    <tr style=\"text-align: right;\">\n",
        "      <th></th>\n",
        "      <th>911-reports</th>\n",
        "      <th>tuple</th>\n",
        "    </tr>\n",
        "  </thead>\n",
        "  <tbody>\n",
        "    <tr>\n",
        "      <th>0</th>\n",
        "      <td> [{'Category': 'OTHER OFFENSES', 'TimeBin': 188...</td>\n",
        "      <td> (18837522.465465467, -122.514436, 37.681551555...</td>\n",
        "    </tr>\n",
        "    <tr>\n",
        "      <th>1</th>\n",
        "      <td> [{'Category': 'LARCENY/THEFT', 'TimeBin': 3767...</td>\n",
        "      <td> (37675044.930930935, -122.514436, 37.681551555...</td>\n",
        "    </tr>\n",
        "    <tr>\n",
        "      <th>2</th>\n",
        "      <td> [{'Category': 'DRUG/NARCOTIC', 'TimeBin': 1636...</td>\n",
        "      <td> (163663636.04404405, -122.514436, 37.710130333...</td>\n",
        "    </tr>\n",
        "    <tr>\n",
        "      <th>3</th>\n",
        "      <td> [{'Category': 'VEHICLE THEFT', 'TimeBin': 1790...</td>\n",
        "      <td> (179057740.42442444, -122.514436, 37.710130333...</td>\n",
        "    </tr>\n",
        "    <tr>\n",
        "      <th>4</th>\n",
        "      <td> [{'Category': 'LARCENY/THEFT', 'TimeBin': 1563...</td>\n",
        "      <td> (156371691.8638639, -122.514436, 37.7958666666...</td>\n",
        "    </tr>\n",
        "  </tbody>\n",
        "</table>\n",
        "</div>"
       ],
       "metadata": {},
       "output_type": "pyout",
       "prompt_number": 3,
       "text": [
        "                                         911-reports  \\\n",
        "0  [{'Category': 'OTHER OFFENSES', 'TimeBin': 188...   \n",
        "1  [{'Category': 'LARCENY/THEFT', 'TimeBin': 3767...   \n",
        "2  [{'Category': 'DRUG/NARCOTIC', 'TimeBin': 1636...   \n",
        "3  [{'Category': 'VEHICLE THEFT', 'TimeBin': 1790...   \n",
        "4  [{'Category': 'LARCENY/THEFT', 'TimeBin': 1563...   \n",
        "\n",
        "                                               tuple  \n",
        "0  (18837522.465465467, -122.514436, 37.681551555...  \n",
        "1  (37675044.930930935, -122.514436, 37.681551555...  \n",
        "2  (163663636.04404405, -122.514436, 37.710130333...  \n",
        "3  (179057740.42442444, -122.514436, 37.710130333...  \n",
        "4  (156371691.8638639, -122.514436, 37.7958666666...  "
       ]
      }
     ],
     "prompt_number": 3
    },
    {
     "cell_type": "code",
     "collapsed": false,
     "input": [
      "joined_df = data_311.merge(data_911, how='left', on='tuple')\n",
      "#joined_df.to_csv(\"joined_data.csv\", index_label=False)\n",
      "\n",
      "joined_df['911-reports'].count()"
     ],
     "language": "python",
     "metadata": {},
     "outputs": [
      {
       "metadata": {},
       "output_type": "pyout",
       "prompt_number": 4,
       "text": [
        "4543"
       ]
      }
     ],
     "prompt_number": 4
    },
    {
     "cell_type": "code",
     "collapsed": false,
     "input": [
      "joined_df.head()"
     ],
     "language": "python",
     "metadata": {},
     "outputs": [
      {
       "html": [
        "<div style=\"max-height:1000px;max-width:1500px;overflow:auto;\">\n",
        "<table border=\"1\" class=\"dataframe\">\n",
        "  <thead>\n",
        "    <tr style=\"text-align: right;\">\n",
        "      <th></th>\n",
        "      <th>tuple</th>\n",
        "      <th>311-reports</th>\n",
        "      <th>911-reports</th>\n",
        "    </tr>\n",
        "  </thead>\n",
        "  <tbody>\n",
        "    <tr>\n",
        "      <th>0</th>\n",
        "      <td> (150700179.72372374, -122.514436, 37.681551555...</td>\n",
        "      <td> [{'Category': 'Street and Sidewalk Cleaning', ...</td>\n",
        "      <td> [{'Category': 'LARCENY/THEFT', 'TimeBin': 1507...</td>\n",
        "    </tr>\n",
        "    <tr>\n",
        "      <th>1</th>\n",
        "      <td> (75350089.86186187, -122.514436, 37.6815515555...</td>\n",
        "      <td> [{'Category': 'Graffiti Private Property', 'Ti...</td>\n",
        "      <td> [{'Category': 'OTHER OFFENSES', 'TimeBin': 753...</td>\n",
        "    </tr>\n",
        "    <tr>\n",
        "      <th>2</th>\n",
        "      <td> (48207853.1911912, -122.514436, 37.73870911111...</td>\n",
        "      <td> [{'Category': 'Sidewalk or Curb', 'TimeBin': 4...</td>\n",
        "      <td> [{'Category': 'OTHER OFFENSES', 'TimeBin': 482...</td>\n",
        "    </tr>\n",
        "    <tr>\n",
        "      <th>3</th>\n",
        "      <td> (51853825.281281285, -122.514436, 37.795866666...</td>\n",
        "      <td> [{'Category': 'Graffiti Private Property', 'Ti...</td>\n",
        "      <td> [{'Category': 'ASSAULT', 'TimeBin': 51853825.2...</td>\n",
        "    </tr>\n",
        "    <tr>\n",
        "      <th>4</th>\n",
        "      <td> (45777205.131131135, -122.514436, 37.738709111...</td>\n",
        "      <td> [{'Category': 'Street and Sidewalk Cleaning', ...</td>\n",
        "      <td> [{'Category': 'SUSPICIOUS OCC', 'TimeBin': 457...</td>\n",
        "    </tr>\n",
        "  </tbody>\n",
        "</table>\n",
        "</div>"
       ],
       "metadata": {},
       "output_type": "pyout",
       "prompt_number": 5,
       "text": [
        "                                               tuple  \\\n",
        "0  (150700179.72372374, -122.514436, 37.681551555...   \n",
        "1  (75350089.86186187, -122.514436, 37.6815515555...   \n",
        "2  (48207853.1911912, -122.514436, 37.73870911111...   \n",
        "3  (51853825.281281285, -122.514436, 37.795866666...   \n",
        "4  (45777205.131131135, -122.514436, 37.738709111...   \n",
        "\n",
        "                                         311-reports  \\\n",
        "0  [{'Category': 'Street and Sidewalk Cleaning', ...   \n",
        "1  [{'Category': 'Graffiti Private Property', 'Ti...   \n",
        "2  [{'Category': 'Sidewalk or Curb', 'TimeBin': 4...   \n",
        "3  [{'Category': 'Graffiti Private Property', 'Ti...   \n",
        "4  [{'Category': 'Street and Sidewalk Cleaning', ...   \n",
        "\n",
        "                                         911-reports  \n",
        "0  [{'Category': 'LARCENY/THEFT', 'TimeBin': 1507...  \n",
        "1  [{'Category': 'OTHER OFFENSES', 'TimeBin': 753...  \n",
        "2  [{'Category': 'OTHER OFFENSES', 'TimeBin': 482...  \n",
        "3  [{'Category': 'ASSAULT', 'TimeBin': 51853825.2...  \n",
        "4  [{'Category': 'SUSPICIOUS OCC', 'TimeBin': 457...  "
       ]
      }
     ],
     "prompt_number": 5
    },
    {
     "cell_type": "code",
     "collapsed": false,
     "input": [
      "joined_df.to_csv(\"joined_data.csv\", index_label=False)"
     ],
     "language": "python",
     "metadata": {},
     "outputs": [],
     "prompt_number": 6
    },
    {
     "cell_type": "code",
     "collapsed": false,
     "input": [],
     "language": "python",
     "metadata": {},
     "outputs": []
    }
   ],
   "metadata": {}
  }
 ]
}