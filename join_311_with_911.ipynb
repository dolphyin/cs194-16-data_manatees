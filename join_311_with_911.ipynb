{
 "metadata": {
  "name": "",
  "signature": "sha256:5e5a3d82c0ce7fec790c45a2a5095d006ef0de8eafe1691d8c85b037d50ebba7"
 },
 "nbformat": 3,
 "nbformat_minor": 0,
 "worksheets": [
  {
   "cells": [
    {
     "cell_type": "code",
     "collapsed": false,
     "input": [
      "import pandas as pd\n",
      "data_311 = pd.read_csv('df_311_ready_to_join.csv', na_values=['-'])\n",
      "data_311 = data_311.where((pd.notnull(data_311)), None)\n",
      "data_311.head(5)"
     ],
     "language": "python",
     "metadata": {},
     "outputs": [
      {
       "html": [
        "<div style=\"max-height:1000px;max-width:1500px;overflow:auto;\">\n",
        "<table border=\"1\" class=\"dataframe\">\n",
        "  <thead>\n",
        "    <tr style=\"text-align: right;\">\n",
        "      <th></th>\n",
        "      <th>feature-311</th>\n",
        "      <th>tuple</th>\n",
        "    </tr>\n",
        "  </thead>\n",
        "  <tbody>\n",
        "    <tr>\n",
        "      <th>0</th>\n",
        "      <td> [0, 2, 0, 0, 0, 0, 0, 0, 0, 0, 0, 0, 0, 0, 0, ...</td>\n",
        "      <td> (12791169.937187439, -122.42479733333333, 37.7...</td>\n",
        "    </tr>\n",
        "    <tr>\n",
        "      <th>1</th>\n",
        "      <td> [0, 0, 0, 0, 0, 0, 0, 0, 0, 0, 0, 0, 0, 0, 0, ...</td>\n",
        "      <td> (157056137.2034407, -122.49222955555557, 37.74...</td>\n",
        "    </tr>\n",
        "    <tr>\n",
        "      <th>2</th>\n",
        "      <td> [0, 0, 0, 0, 0, 0, 0, 0, 0, 0, 0, 0, 0, 0, 0, ...</td>\n",
        "      <td> (157987140.07861573, -122.39782444444444, 37.7...</td>\n",
        "    </tr>\n",
        "    <tr>\n",
        "      <th>3</th>\n",
        "      <td> [0, 0, 0, 0, 0, 0, 0, 0, 0, 0, 0, 0, 0, 0, 1, ...</td>\n",
        "      <td> (51609941.99339868, -122.45177022222222, 37.77...</td>\n",
        "    </tr>\n",
        "    <tr>\n",
        "      <th>4</th>\n",
        "      <td> [0, 1, 0, 0, 0, 0, 0, 0, 0, 0, 0, 0, 0, 0, 0, ...</td>\n",
        "      <td> (143617313.09221846, -122.46525666666668, 37.7...</td>\n",
        "    </tr>\n",
        "  </tbody>\n",
        "</table>\n",
        "</div>"
       ],
       "metadata": {},
       "output_type": "pyout",
       "prompt_number": 1,
       "text": [
        "                                         feature-311  \\\n",
        "0  [0, 2, 0, 0, 0, 0, 0, 0, 0, 0, 0, 0, 0, 0, 0, ...   \n",
        "1  [0, 0, 0, 0, 0, 0, 0, 0, 0, 0, 0, 0, 0, 0, 0, ...   \n",
        "2  [0, 0, 0, 0, 0, 0, 0, 0, 0, 0, 0, 0, 0, 0, 0, ...   \n",
        "3  [0, 0, 0, 0, 0, 0, 0, 0, 0, 0, 0, 0, 0, 0, 1, ...   \n",
        "4  [0, 1, 0, 0, 0, 0, 0, 0, 0, 0, 0, 0, 0, 0, 0, ...   \n",
        "\n",
        "                                               tuple  \n",
        "0  (12791169.937187439, -122.42479733333333, 37.7...  \n",
        "1  (157056137.2034407, -122.49222955555557, 37.74...  \n",
        "2  (157987140.07861573, -122.39782444444444, 37.7...  \n",
        "3  (51609941.99339868, -122.45177022222222, 37.77...  \n",
        "4  (143617313.09221846, -122.46525666666668, 37.7...  "
       ]
      }
     ],
     "prompt_number": 1
    },
    {
     "cell_type": "code",
     "collapsed": false,
     "input": [
      "data_911 = pd.read_csv('data_911_ready_to_join.csv', na_values=['-'])\n",
      "data_911 = data_911.where((pd.notnull(data_911)), None)\n",
      "data_911.head(5)"
     ],
     "language": "python",
     "metadata": {},
     "outputs": [
      {
       "html": [
        "<div style=\"max-height:1000px;max-width:1500px;overflow:auto;\">\n",
        "<table border=\"1\" class=\"dataframe\">\n",
        "  <thead>\n",
        "    <tr style=\"text-align: right;\">\n",
        "      <th></th>\n",
        "      <th>feature-911</th>\n",
        "      <th>tuple</th>\n",
        "    </tr>\n",
        "  </thead>\n",
        "  <tbody>\n",
        "    <tr>\n",
        "      <th>0</th>\n",
        "      <td> 1</td>\n",
        "      <td> (197575001.4664933, -122.43828377777778, 37.80...</td>\n",
        "    </tr>\n",
        "    <tr>\n",
        "      <th>1</th>\n",
        "      <td> 1</td>\n",
        "      <td> (157056137.2034407, -122.49222955555557, 37.74...</td>\n",
        "    </tr>\n",
        "    <tr>\n",
        "      <th>2</th>\n",
        "      <td> 2</td>\n",
        "      <td> (157987140.07861573, -122.39782444444444, 37.7...</td>\n",
        "    </tr>\n",
        "    <tr>\n",
        "      <th>3</th>\n",
        "      <td> 2</td>\n",
        "      <td> (183407566.4094819, -122.49222955555557, 37.72...</td>\n",
        "    </tr>\n",
        "    <tr>\n",
        "      <th>4</th>\n",
        "      <td> 1</td>\n",
        "      <td> (143617313.09221846, -122.46525666666668, 37.7...</td>\n",
        "    </tr>\n",
        "  </tbody>\n",
        "</table>\n",
        "</div>"
       ],
       "metadata": {},
       "output_type": "pyout",
       "prompt_number": 2,
       "text": [
        "   feature-911                                              tuple\n",
        "0            1  (197575001.4664933, -122.43828377777778, 37.80...\n",
        "1            1  (157056137.2034407, -122.49222955555557, 37.74...\n",
        "2            2  (157987140.07861573, -122.39782444444444, 37.7...\n",
        "3            2  (183407566.4094819, -122.49222955555557, 37.72...\n",
        "4            1  (143617313.09221846, -122.46525666666668, 37.7..."
       ]
      }
     ],
     "prompt_number": 2
    },
    {
     "cell_type": "code",
     "collapsed": false,
     "input": [
      "joined_df = data_311.merge(data_911, how='left', on='tuple')\n",
      "joined_df = joined_df.where((pd.notnull(joined_df)), 0)\n",
      "print \"done joining\""
     ],
     "language": "python",
     "metadata": {},
     "outputs": [
      {
       "output_type": "stream",
       "stream": "stdout",
       "text": [
        "done joining\n"
       ]
      }
     ],
     "prompt_number": 3
    },
    {
     "cell_type": "code",
     "collapsed": false,
     "input": [
      "joined_df.head()"
     ],
     "language": "python",
     "metadata": {},
     "outputs": [
      {
       "html": [
        "<div style=\"max-height:1000px;max-width:1500px;overflow:auto;\">\n",
        "<table border=\"1\" class=\"dataframe\">\n",
        "  <thead>\n",
        "    <tr style=\"text-align: right;\">\n",
        "      <th></th>\n",
        "      <th>feature-311</th>\n",
        "      <th>tuple</th>\n",
        "      <th>feature-911</th>\n",
        "    </tr>\n",
        "  </thead>\n",
        "  <tbody>\n",
        "    <tr>\n",
        "      <th>0</th>\n",
        "      <td> [0, 2, 0, 0, 0, 0, 0, 0, 0, 0, 0, 0, 0, 0, 0, ...</td>\n",
        "      <td> (12791169.937187439, -122.42479733333333, 37.7...</td>\n",
        "      <td> 0</td>\n",
        "    </tr>\n",
        "    <tr>\n",
        "      <th>1</th>\n",
        "      <td> [0, 0, 0, 0, 0, 0, 0, 0, 0, 0, 0, 0, 0, 0, 0, ...</td>\n",
        "      <td> (157056137.2034407, -122.49222955555557, 37.74...</td>\n",
        "      <td> 1</td>\n",
        "    </tr>\n",
        "    <tr>\n",
        "      <th>2</th>\n",
        "      <td> [0, 0, 0, 0, 0, 0, 0, 0, 0, 0, 0, 0, 0, 0, 0, ...</td>\n",
        "      <td> (157987140.07861573, -122.39782444444444, 37.7...</td>\n",
        "      <td> 2</td>\n",
        "    </tr>\n",
        "    <tr>\n",
        "      <th>3</th>\n",
        "      <td> [0, 0, 0, 0, 0, 0, 0, 0, 0, 0, 0, 0, 0, 0, 1, ...</td>\n",
        "      <td> (51609941.99339868, -122.45177022222222, 37.77...</td>\n",
        "      <td> 9</td>\n",
        "    </tr>\n",
        "    <tr>\n",
        "      <th>4</th>\n",
        "      <td> [0, 1, 0, 0, 0, 0, 0, 0, 0, 0, 0, 0, 0, 0, 0, ...</td>\n",
        "      <td> (143617313.09221846, -122.46525666666668, 37.7...</td>\n",
        "      <td> 1</td>\n",
        "    </tr>\n",
        "  </tbody>\n",
        "</table>\n",
        "</div>"
       ],
       "metadata": {},
       "output_type": "pyout",
       "prompt_number": 4,
       "text": [
        "                                         feature-311  \\\n",
        "0  [0, 2, 0, 0, 0, 0, 0, 0, 0, 0, 0, 0, 0, 0, 0, ...   \n",
        "1  [0, 0, 0, 0, 0, 0, 0, 0, 0, 0, 0, 0, 0, 0, 0, ...   \n",
        "2  [0, 0, 0, 0, 0, 0, 0, 0, 0, 0, 0, 0, 0, 0, 0, ...   \n",
        "3  [0, 0, 0, 0, 0, 0, 0, 0, 0, 0, 0, 0, 0, 0, 1, ...   \n",
        "4  [0, 1, 0, 0, 0, 0, 0, 0, 0, 0, 0, 0, 0, 0, 0, ...   \n",
        "\n",
        "                                               tuple  feature-911  \n",
        "0  (12791169.937187439, -122.42479733333333, 37.7...            0  \n",
        "1  (157056137.2034407, -122.49222955555557, 37.74...            1  \n",
        "2  (157987140.07861573, -122.39782444444444, 37.7...            2  \n",
        "3  (51609941.99339868, -122.45177022222222, 37.77...            9  \n",
        "4  (143617313.09221846, -122.46525666666668, 37.7...            1  "
       ]
      }
     ],
     "prompt_number": 4
    },
    {
     "cell_type": "code",
     "collapsed": false,
     "input": [
      "joined_df.to_csv(\"joined_data.csv\", index_label=False)"
     ],
     "language": "python",
     "metadata": {},
     "outputs": [],
     "prompt_number": 5
    },
    {
     "cell_type": "code",
     "collapsed": false,
     "input": [
      "# use the joined table to create a matrix.  \n",
      "# The matrix will be Nx(D+1), where N is the number of unique tuples, and D is the number of features in \n",
      "# our feature vector.  The last column of the matrix corresponds to the feature-911, i.e. the number\n",
      "# of 911 reports in the given location/time.\n",
      "import numpy as np\n",
      "N = len(joined_df)\n",
      "D = len(eval(joined_df['feature-311'][0]))\n",
      "mat = np.zeros([N, D+1])\n",
      "for i in xrange(N):\n",
      "    mat[i,] = eval(joined_df['feature-311'][i]) + [joined_df['feature-911'][i]]"
     ],
     "language": "python",
     "metadata": {},
     "outputs": [],
     "prompt_number": 6
    },
    {
     "cell_type": "code",
     "collapsed": false,
     "input": [
      "np.savetxt(\"joined_matrix.txt\", mat)"
     ],
     "language": "python",
     "metadata": {},
     "outputs": [],
     "prompt_number": 20
    }
   ],
   "metadata": {}
  }
 ]
}